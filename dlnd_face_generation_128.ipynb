{
 "cells": [
  {
   "cell_type": "markdown",
   "metadata": {
    "colab_type": "text",
    "id": "DijCWx-OXkjp"
   },
   "source": [
    "# Face Generation\n",
    "\n",
    "In this project, you'll define and train a DCGAN on a dataset of faces. Your goal is to get a generator network to generate *new* images of faces that look as realistic as possible!\n",
    "\n",
    "The project will be broken down into a series of tasks from **loading in data to defining and training adversarial networks**. At the end of the notebook, you'll be able to visualize the results of your trained Generator to see how it performs; your generated samples should look like fairly realistic faces with small amounts of noise.\n",
    "\n",
    "### Get the Data\n",
    "\n",
    "You'll be using the [CelebFaces Attributes Dataset (CelebA)](http://mmlab.ie.cuhk.edu.hk/projects/CelebA.html) to train your adversarial networks.\n",
    "\n",
    "This dataset is more complex than the number datasets (like MNIST or SVHN) you've been working with, and so, you should prepare to define deeper networks and train them for a longer time to get good results. It is suggested that you utilize a GPU for training.\n",
    "\n",
    "### Pre-processed Data\n",
    "\n",
    "Since the project's main focus is on building the GANs, we've done *some* of the pre-processing for you. Each of the CelebA images has been cropped to remove parts of the image that don't include a face, then resized down to 64x64x3 NumPy images. Some sample data is show below.\n",
    "\n",
    "<img src='assets/processed_face_data.png' width=60% />\n",
    "\n",
    "> If you are working locally, you can download this data [by clicking here](https://s3.amazonaws.com/video.udacity-data.com/topher/2018/November/5be7eb6f_processed-celeba-small/processed-celeba-small.zip)\n",
    "\n",
    "This is a zip file that you'll need to extract in the home directory of this notebook for further loading and processing. After extracting the data, you should be left with a directory of data `processed_celeba_small/`"
   ]
  },
  {
   "cell_type": "code",
   "execution_count": 0,
   "metadata": {
    "colab": {},
    "colab_type": "code",
    "id": "1VBb5GyXXkkB"
   },
   "outputs": [],
   "source": [
    "data_dir = 'processed_celeba_small/'\n",
    "\n",
    "\"\"\"\n",
    "DON'T MODIFY ANYTHING IN THIS CELL\n",
    "\"\"\"\n",
    "import pickle as pkl\n",
    "import matplotlib.pyplot as plt\n",
    "import numpy as np\n",
    "import problem_unittests as tests\n",
    "#import helper\n",
    "\n",
    "%matplotlib inline"
   ]
  },
  {
   "cell_type": "markdown",
   "metadata": {
    "colab_type": "text",
    "id": "pixkc09IXkkI"
   },
   "source": [
    "## Visualize the CelebA Data\n",
    "\n",
    "The [CelebA](http://mmlab.ie.cuhk.edu.hk/projects/CelebA.html) dataset contains over 200,000 celebrity images with annotations. Since you're going to be generating faces, you won't need the annotations, you'll only need the images. Note that these are color images with [3 color channels (RGB)](https://en.wikipedia.org/wiki/Channel_(digital_image)#RGB_Images) each.\n",
    "\n",
    "### Pre-process and Load the Data\n",
    "\n",
    "Since the project's main focus is on building the GANs, we've done *some* of the pre-processing for you. Each of the CelebA images has been cropped to remove parts of the image that don't include a face, then resized down to 64x64x3 NumPy images. This *pre-processed* dataset is a smaller subset of the very large CelebA data.\n",
    "\n",
    "> There are a few other steps that you'll need to **transform** this data and create a **DataLoader**.\n",
    "\n",
    "#### Exercise: Complete the following `get_dataloader` function, such that it satisfies these requirements:\n",
    "\n",
    "* Your images should be square, Tensor images of size `image_size x image_size` in the x and y dimension.\n",
    "* Your function should return a DataLoader that shuffles and batches these Tensor images.\n",
    "\n",
    "#### ImageFolder\n",
    "\n",
    "To create a dataset given a directory of images, it's recommended that you use PyTorch's [ImageFolder](https://pytorch.org/docs/stable/torchvision/datasets.html#imagefolder) wrapper, with a root directory `processed_celeba_small/` and data transformation passed in."
   ]
  },
  {
   "cell_type": "code",
   "execution_count": 0,
   "metadata": {
    "colab": {},
    "colab_type": "code",
    "id": "d8CTTAjkXkkM"
   },
   "outputs": [],
   "source": [
    "# necessary imports\n",
    "import torch\n",
    "from torchvision import datasets\n",
    "from torchvision import transforms\n",
    "from torch.utils.data import DataLoader"
   ]
  },
  {
   "cell_type": "code",
   "execution_count": 0,
   "metadata": {
    "colab": {},
    "colab_type": "code",
    "id": "muC4xdMBXkkT"
   },
   "outputs": [],
   "source": [
    "def get_dataloader(batch_size, image_size, data_dir='processed_celeba_small/'):\n",
    "    \"\"\"\n",
    "    Batch the neural network data using DataLoader\n",
    "    :param batch_size: The size of each batch; the number of images in a batch\n",
    "    :param img_size: The square size of the image data (x, y)\n",
    "    :param data_dir: Directory where image data is located\n",
    "    :return: DataLoader with batched data\n",
    "    \"\"\"\n",
    "    \n",
    "    # TODO: Implement function and return a dataloader\n",
    "    \n",
    "    # resize and normalize the images\n",
    "    transform = transforms.Compose([transforms.Resize(image_size), # resize to 128x128\n",
    "                                    transforms.ToTensor()])\n",
    "    \n",
    "    image_path = './' + data_dir\n",
    "    \n",
    "    # define datasets using ImageFolder\n",
    "    image_dataset = datasets.ImageFolder(image_path, transform)\n",
    "    \n",
    "    # create and return DataLoaders\n",
    "    data_loader = DataLoader(dataset=image_dataset, batch_size=batch_size, shuffle=True)\n",
    "    \n",
    "    \n",
    "    return data_loader\n"
   ]
  },
  {
   "cell_type": "markdown",
   "metadata": {
    "colab_type": "text",
    "id": "8R3ecwvgXkka"
   },
   "source": [
    "## Create a DataLoader\n",
    "\n",
    "#### Exercise: Create a DataLoader `celeba_train_loader` with appropriate hyperparameters.\n",
    "\n",
    "Call the above function and create a dataloader to view images. \n",
    "* You can decide on any reasonable `batch_size` parameter\n",
    "* Your `image_size` **must be** `32`. Resizing the data to a smaller size will make for faster training, while still creating convincing images of faces!"
   ]
  },
  {
   "cell_type": "code",
   "execution_count": 0,
   "metadata": {
    "colab": {},
    "colab_type": "code",
    "id": "9J69X0eDXkkb"
   },
   "outputs": [],
   "source": [
    "# Define function hyperparameters\n",
    "batch_size = 128\n",
    "img_size = 32\n",
    "\n",
    "\"\"\"\n",
    "DON'T MODIFY ANYTHING IN THIS CELL THAT IS BELOW THIS LINE\n",
    "\"\"\"\n",
    "# Call your function and get a dataloader\n",
    "celeba_train_loader = get_dataloader(batch_size, img_size)\n"
   ]
  },
  {
   "cell_type": "markdown",
   "metadata": {
    "colab_type": "text",
    "id": "5qE3YISzXkkh"
   },
   "source": [
    "Next, you can view some images! You should seen square images of somewhat-centered faces.\n",
    "\n",
    "Note: You'll need to convert the Tensor images into a NumPy type and transpose the dimensions to correctly display an image, suggested `imshow` code is below, but it may not be perfect."
   ]
  },
  {
   "cell_type": "code",
   "execution_count": 5,
   "metadata": {
    "colab": {
     "base_uri": "https://localhost:8080/",
     "height": 271
    },
    "colab_type": "code",
    "id": "IMbS7TOBXkkj",
    "outputId": "05a399f0-b7ce-407b-d8ef-2ab708229d3e"
   },
   "outputs": [
    {
     "data": {
      "image/png": "[encoded data removed]",
      "text/plain": [
       "<Figure size 1440x288 with 20 Axes>"
      ]
     },
     "metadata": {
      "tags": []
     },
     "output_type": "display_data"
    }
   ],
   "source": [
    "# helper display function\n",
    "def imshow(img):\n",
    "    npimg = img.numpy()\n",
    "    plt.imshow(np.transpose(npimg, (1, 2, 0)))\n",
    "\n",
    "\"\"\"\n",
    "DON'T MODIFY ANYTHING IN THIS CELL THAT IS BELOW THIS LINE\n",
    "\"\"\"\n",
    "# obtain one batch of training images\n",
    "dataiter = iter(celeba_train_loader)\n",
    "images, _ = dataiter.next() # _ for no labels\n",
    "\n",
    "# plot the images in the batch, along with the corresponding labels\n",
    "fig = plt.figure(figsize=(20, 4))\n",
    "plot_size=20\n",
    "for idx in np.arange(plot_size):\n",
    "    ax = fig.add_subplot(2, plot_size/2, idx+1, xticks=[], yticks=[])\n",
    "    imshow(images[idx])"
   ]
  },
  {
   "cell_type": "markdown",
   "metadata": {
    "colab_type": "text",
    "id": "T-lZNz3NXkku"
   },
   "source": [
    "#### Exercise: Pre-process your image data and scale it to a pixel range of -1 to 1\n",
    "\n",
    "You need to do a bit of pre-processing; you know that the output of a `tanh` activated generator will contain pixel values in a range from -1 to 1, and so, we need to rescale our training images to a range of -1 to 1. (Right now, they are in a range from 0-1.)"
   ]
  },
  {
   "cell_type": "code",
   "execution_count": 0,
   "metadata": {
    "colab": {},
    "colab_type": "code",
    "id": "C7bZHH_bXkkx"
   },
   "outputs": [],
   "source": [
    "# TODO: Complete the scale function\n",
    "def scale(x, feature_range=(-1, 1)):\n",
    "    ''' Scale takes in an image x and returns that image, scaled\n",
    "       with a feature_range of pixel values from -1 to 1. \n",
    "       This function assumes that the input x is already scaled from 0-1.'''\n",
    "    # assume x is scaled to (0, 1)\n",
    "    # scale to feature_range and return scaled x\n",
    "    \n",
    "    min, max = feature_range\n",
    "    x = x * (max - min) + min\n",
    "    \n",
    "    return x\n"
   ]
  },
  {
   "cell_type": "code",
   "execution_count": 7,
   "metadata": {
    "colab": {
     "base_uri": "https://localhost:8080/",
     "height": 53
    },
    "colab_type": "code",
    "id": "Ul585FOQXkk4",
    "outputId": "36556b85-6343-48ff-9ead-75311653957e"
   },
   "outputs": [
    {
     "name": "stdout",
     "output_type": "stream",
     "text": [
      "Min:  tensor(-1.)\n",
      "Max:  tensor(0.9922)\n"
     ]
    }
   ],
   "source": [
    "\"\"\"\n",
    "DON'T MODIFY ANYTHING IN THIS CELL THAT IS BELOW THIS LINE\n",
    "\"\"\"\n",
    "# check scaled range\n",
    "# should be close to -1 to 1\n",
    "img = images[0]\n",
    "scaled_img = scale(img)\n",
    "\n",
    "print('Min: ', scaled_img.min())\n",
    "print('Max: ', scaled_img.max())"
   ]
  },
  {
   "cell_type": "markdown",
   "metadata": {
    "colab_type": "text",
    "id": "4UMRr6MqXklG"
   },
   "source": [
    "---\n",
    "# Define the Model\n",
    "\n",
    "A GAN is comprised of two adversarial networks, a discriminator and a generator.\n",
    "\n",
    "## Discriminator\n",
    "\n",
    "Your first task will be to define the discriminator. This is a convolutional classifier like you've built before, only without any maxpooling layers. To deal with this complex data, it's suggested you use a deep network with **normalization**. You are also allowed to create any helper functions that may be useful.\n",
    "\n",
    "#### Exercise: Complete the Discriminator class\n",
    "* The inputs to the discriminator are 32x32x3 tensor images\n",
    "* The output should be a single value that will indicate whether a given image is real or fake\n"
   ]
  },
  {
   "cell_type": "code",
   "execution_count": 0,
   "metadata": {
    "colab": {},
    "colab_type": "code",
    "id": "g5-jOlLhXklH"
   },
   "outputs": [],
   "source": [
    "import torch.nn as nn\n",
    "import torch.nn.functional as F"
   ]
  },
  {
   "cell_type": "code",
   "execution_count": 9,
   "metadata": {
    "colab": {
     "base_uri": "https://localhost:8080/",
     "height": 35
    },
    "colab_type": "code",
    "id": "5bT-kw77TyTG",
    "outputId": "977f0928-7d4c-4c3d-e701-9bb9368b16be"
   },
   "outputs": [
    {
     "name": "stdout",
     "output_type": "stream",
     "text": [
      "Tests Passed\n"
     ]
    }
   ],
   "source": [
    "class Discriminator(nn.Module):\n",
    "\n",
    "    def __init__(self, conv_dim):\n",
    "        \"\"\"\n",
    "        Initialize the Discriminator Module\n",
    "        :param conv_dim: The depth of the first convolutional layer\n",
    "        \"\"\"\n",
    "        super(Discriminator, self).__init__()\n",
    "\n",
    "        # complete init function\n",
    "        self.conv_dim = conv_dim\n",
    "        \n",
    "        params = [conv_dim, 'R', conv_dim*2, 'B', 'R', conv_dim*4, 'B', 'R']\n",
    "                \n",
    "        self.features = self._make_layers(params)\n",
    "        \n",
    "        # final, fully-connected layer\n",
    "        self.fc = nn.Linear(conv_dim*4*4*4, 1)\n",
    "    \n",
    "    def _make_layers(self, params):\n",
    "        layers = []\n",
    "        in_channels = 3\n",
    "        for x in params:\n",
    "            if x == 'B':\n",
    "                layers += [nn.BatchNorm2d(in_channels)]\n",
    "            elif x == 'R':\n",
    "                layers += [nn.LeakyReLU(negative_slope=0.2, inplace=True)]\n",
    "            else:\n",
    "                layers += [nn.Conv2d(in_channels, x, kernel_size=4, stride=2, padding=1, bias=False)]\n",
    "                in_channels = x\n",
    "        return nn.Sequential(*layers)\n",
    "\n",
    "    def forward(self, x):\n",
    "        \"\"\"\n",
    "        Forward propagation of the neural network\n",
    "        :param x: The input to the neural network     \n",
    "        :return: Discriminator logits; the output of the neural network\n",
    "        \"\"\"\n",
    "        # define feedforward behavior\n",
    "        \n",
    "        # all hidden layers + leaky relu activation\n",
    "        out = self.features(x)\n",
    "        \n",
    "        # flatten\n",
    "        out = out.view(-1, self.conv_dim*4*4*4)\n",
    "        \n",
    "        # final output layer\n",
    "        out = self.fc(out) \n",
    "        \n",
    "        return out\n",
    "\n",
    "\n",
    "\"\"\"\n",
    "DON'T MODIFY ANYTHING IN THIS CELL THAT IS BELOW THIS LINE\n",
    "\"\"\"\n",
    "tests.test_discriminator(Discriminator)"
   ]
  },
  {
   "cell_type": "markdown",
   "metadata": {
    "colab_type": "text",
    "id": "qEjLvsfJXklS"
   },
   "source": [
    "## Generator\n",
    "\n",
    "The generator should upsample an input and generate a *new* image of the same size as our training data `32x32x3`. This should be mostly transpose convolutional layers with normalization applied to the outputs.\n",
    "\n",
    "#### Exercise: Complete the Generator class\n",
    "* The inputs to the generator are vectors of some length `z_size`\n",
    "* The output should be a image of shape `32x32x3`"
   ]
  },
  {
   "cell_type": "code",
   "execution_count": 10,
   "metadata": {
    "colab": {
     "base_uri": "https://localhost:8080/",
     "height": 35
    },
    "colab_type": "code",
    "id": "2ifpGxDNYfUv",
    "outputId": "ff246dc1-cda2-4517-e7c7-3394f76c9b98"
   },
   "outputs": [
    {
     "name": "stdout",
     "output_type": "stream",
     "text": [
      "Tests Passed\n"
     ]
    }
   ],
   "source": [
    "class Generator(nn.Module):\n",
    "    \n",
    "    def __init__(self, z_size, conv_dim):\n",
    "        \"\"\"\n",
    "        Initialize the Generator Module\n",
    "        :param z_size: The length of the input latent vector, z\n",
    "        :param conv_dim: The depth of the inputs to the *last* transpose convolutional layer\n",
    "        \"\"\"\n",
    "        super(Generator, self).__init__()\n",
    "\n",
    "        # complete init function\n",
    "        self.conv_dim = conv_dim\n",
    "        \n",
    "        # first, fully-connected layer\n",
    "        self.fc = nn.Linear(z_size, conv_dim*4*4*4)\n",
    "\n",
    "        # transpose conv layers\n",
    "        params = [conv_dim*2, 'B', 'R', conv_dim, 'B', 'R', 3]\n",
    "                \n",
    "        self.features = self._make_layers(params)\n",
    "        \n",
    "        \n",
    "    def _make_layers(self, params):\n",
    "        layers = []\n",
    "        in_channels = self.conv_dim * 4\n",
    "        for x in params:\n",
    "            if x == 'B':\n",
    "                layers += [nn.BatchNorm2d(in_channels)]\n",
    "            elif x == 'R':\n",
    "                layers += [nn.ReLU(inplace=True)]\n",
    "            else:\n",
    "                layers += [nn.ConvTranspose2d(in_channels, x, kernel_size=4, stride=2, padding=1, bias=False)]\n",
    "                in_channels = x\n",
    "        return nn.Sequential(*layers)\n",
    "\n",
    "    def forward(self, x):\n",
    "        \"\"\"\n",
    "        Forward propagation of the neural network\n",
    "        :param x: The input to the neural network     \n",
    "        :return: A 32x32x3 Tensor image as output\n",
    "        \"\"\"\n",
    "        # define feedforward behavior\n",
    "        # fully-connected, reshape \n",
    "        out = self.fc(x)\n",
    "        out = out.view(-1, self.conv_dim*4, 4, 4) # (batch_size, depth, 4, 4)\n",
    "        \n",
    "        # hidden transpose conv layers + relu\n",
    "        out = self.features(out)\n",
    "        \n",
    "        # tanh activation\n",
    "        out = torch.tanh(out)\n",
    "        \n",
    "        return out\n",
    "\n",
    "\"\"\"\n",
    "DON'T MODIFY ANYTHING IN THIS CELL THAT IS BELOW THIS LINE\n",
    "\"\"\"\n",
    "tests.test_generator(Generator)"
   ]
  },
  {
   "cell_type": "markdown",
   "metadata": {
    "colab_type": "text",
    "id": "HHFzWfkEXklb"
   },
   "source": [
    "## Initialize the weights of your networks\n",
    "\n",
    "To help your models converge, you should initialize the weights of the convolutional and linear layers in your model. From reading the [original DCGAN paper](https://arxiv.org/pdf/1511.06434.pdf), they say:\n",
    "> All weights were initialized from a zero-centered Normal distribution with standard deviation 0.02.\n",
    "\n",
    "So, your next task will be to define a weight initialization function that does just this!\n",
    "\n",
    "You can refer back to the lesson on weight initialization or even consult existing model code, such as that from [the `networks.py` file in CycleGAN Github repository](https://github.com/junyanz/pytorch-CycleGAN-and-pix2pix/blob/master/models/networks.py) to help you complete this function.\n",
    "\n",
    "#### Exercise: Complete the weight initialization function\n",
    "\n",
    "* This should initialize only **convolutional** and **linear** layers\n",
    "* Initialize the weights to a normal distribution, centered around 0, with a standard deviation of 0.02.\n",
    "* The bias terms, if they exist, may be left alone or set to 0."
   ]
  },
  {
   "cell_type": "code",
   "execution_count": 0,
   "metadata": {
    "colab": {},
    "colab_type": "code",
    "id": "mjYdrhHhXkld"
   },
   "outputs": [],
   "source": [
    "def weights_init_normal(m):\n",
    "    \"\"\"\n",
    "    Applies initial weights to certain layers in a model .\n",
    "    The weights are taken from a normal distribution \n",
    "    with mean = 0, std dev = 0.02.\n",
    "    :param m: A module or layer in a network    \n",
    "    \"\"\"\n",
    "    # classname will be something like:\n",
    "    # `Conv`, `BatchNorm2d`, `Linear`, etc.\n",
    "    classname = m.__class__.__name__\n",
    "#     print(classname, classname.find('Conv'))\n",
    "    \n",
    "    # TODO: Apply initial weights to convolutional and linear layers\n",
    "    if classname.find('Linear') != -1 :\n",
    "        # apply a uniform distribution to the weights and a bias=0\n",
    "        m.weight.data.normal_(0.0, 0.2)\n",
    "        m.bias.data.fill_(0)\n",
    "    \n",
    "    if classname.find('Conv') != -1 :\n",
    "        # apply a uniform distribution to the weights and a bias=0\n",
    "        m.weight.data.normal_(0.0, 0.2)"
   ]
  },
  {
   "cell_type": "markdown",
   "metadata": {
    "colab_type": "text",
    "collapsed": true,
    "id": "xsAoCU2-Xkli"
   },
   "source": [
    "## Build complete network\n",
    "\n",
    "Define your models' hyperparameters and instantiate the discriminator and generator from the classes defined above. Make sure you've passed in the correct input arguments."
   ]
  },
  {
   "cell_type": "code",
   "execution_count": 0,
   "metadata": {
    "colab": {},
    "colab_type": "code",
    "id": "575_TxS_Xklj"
   },
   "outputs": [],
   "source": [
    "\"\"\"\n",
    "DON'T MODIFY ANYTHING IN THIS CELL THAT IS BELOW THIS LINE\n",
    "\"\"\"\n",
    "def build_network(d_conv_dim, g_conv_dim, z_size):\n",
    "    # define discriminator and generator\n",
    "    D = Discriminator(d_conv_dim)\n",
    "    G = Generator(z_size=z_size, conv_dim=g_conv_dim)\n",
    "\n",
    "    # initialize model weights\n",
    "    D.apply(weights_init_normal)\n",
    "    G.apply(weights_init_normal)\n",
    "\n",
    "    print(D)\n",
    "    print()\n",
    "    print(G)\n",
    "    \n",
    "    return D, G\n"
   ]
  },
  {
   "cell_type": "markdown",
   "metadata": {
    "colab_type": "text",
    "id": "ZtaaCt8vXklq"
   },
   "source": [
    "#### Exercise: Define model hyperparameters"
   ]
  },
  {
   "cell_type": "code",
   "execution_count": 13,
   "metadata": {
    "colab": {
     "base_uri": "https://localhost:8080/",
     "height": 490
    },
    "colab_type": "code",
    "id": "n96c0le5kstK",
    "outputId": "e00572c1-dbb4-40b7-bda8-2d9776d604a5"
   },
   "outputs": [
    {
     "name": "stdout",
     "output_type": "stream",
     "text": [
      "Discriminator(\n",
      "  (features): Sequential(\n",
      "    (0): Conv2d(3, 128, kernel_size=(4, 4), stride=(2, 2), padding=(1, 1), bias=False)\n",
      "    (1): LeakyReLU(negative_slope=0.2, inplace)\n",
      "    (2): Conv2d(128, 256, kernel_size=(4, 4), stride=(2, 2), padding=(1, 1), bias=False)\n",
      "    (3): BatchNorm2d(256, eps=1e-05, momentum=0.1, affine=True, track_running_stats=True)\n",
      "    (4): LeakyReLU(negative_slope=0.2, inplace)\n",
      "    (5): Conv2d(256, 512, kernel_size=(4, 4), stride=(2, 2), padding=(1, 1), bias=False)\n",
      "    (6): BatchNorm2d(512, eps=1e-05, momentum=0.1, affine=True, track_running_stats=True)\n",
      "    (7): LeakyReLU(negative_slope=0.2, inplace)\n",
      "  )\n",
      "  (fc): Linear(in_features=8192, out_features=1, bias=True)\n",
      ")\n",
      "\n",
      "Generator(\n",
      "  (fc): Linear(in_features=100, out_features=8192, bias=True)\n",
      "  (features): Sequential(\n",
      "    (0): ConvTranspose2d(512, 256, kernel_size=(4, 4), stride=(2, 2), padding=(1, 1), bias=False)\n",
      "    (1): BatchNorm2d(256, eps=1e-05, momentum=0.1, affine=True, track_running_stats=True)\n",
      "    (2): ReLU(inplace)\n",
      "    (3): ConvTranspose2d(256, 128, kernel_size=(4, 4), stride=(2, 2), padding=(1, 1), bias=False)\n",
      "    (4): BatchNorm2d(128, eps=1e-05, momentum=0.1, affine=True, track_running_stats=True)\n",
      "    (5): ReLU(inplace)\n",
      "    (6): ConvTranspose2d(128, 3, kernel_size=(4, 4), stride=(2, 2), padding=(1, 1), bias=False)\n",
      "  )\n",
      ")\n"
     ]
    }
   ],
   "source": [
    "# Define model hyperparams\n",
    "d_conv_dim = 128\n",
    "g_conv_dim = d_conv_dim\n",
    "z_size = 100\n",
    "\n",
    "\"\"\"\n",
    "DON'T MODIFY ANYTHING IN THIS CELL THAT IS BELOW THIS LINE\n",
    "\"\"\"\n",
    "D, G = build_network(d_conv_dim, g_conv_dim, z_size)"
   ]
  },
  {
   "cell_type": "markdown",
   "metadata": {
    "colab_type": "text",
    "id": "tYOUx1QKXklv"
   },
   "source": [
    "### Training on GPU\n",
    "\n",
    "Check if you can train on GPU. Here, we'll set this as a boolean variable `train_on_gpu`. Later, you'll be responsible for making sure that \n",
    ">* Models,\n",
    "* Model inputs, and\n",
    "* Loss function arguments\n",
    "\n",
    "Are moved to GPU, where appropriate."
   ]
  },
  {
   "cell_type": "code",
   "execution_count": 14,
   "metadata": {
    "colab": {
     "base_uri": "https://localhost:8080/",
     "height": 35
    },
    "colab_type": "code",
    "id": "DE4W_dsNXkl2",
    "outputId": "4ab9dbcb-138a-412e-ade4-0a8a204c030b"
   },
   "outputs": [
    {
     "name": "stdout",
     "output_type": "stream",
     "text": [
      "Training on GPU!\n"
     ]
    }
   ],
   "source": [
    "\"\"\"\n",
    "DON'T MODIFY ANYTHING IN THIS CELL\n",
    "\"\"\"\n",
    "import torch\n",
    "\n",
    "# Check for a GPU\n",
    "train_on_gpu = torch.cuda.is_available()\n",
    "if not train_on_gpu:\n",
    "    print('No GPU found. Please use a GPU to train your neural network.')\n",
    "else:\n",
    "    print('Training on GPU!')"
   ]
  },
  {
   "cell_type": "markdown",
   "metadata": {
    "colab_type": "text",
    "id": "Wu8z0nbtXkl9"
   },
   "source": [
    "---\n",
    "## Discriminator and Generator Losses\n",
    "\n",
    "Now we need to calculate the losses for both types of adversarial networks.\n",
    "\n",
    "### Discriminator Losses\n",
    "\n",
    "> * For the discriminator, the total loss is the sum of the losses for real and fake images, `d_loss = d_real_loss + d_fake_loss`. \n",
    "* Remember that we want the discriminator to output 1 for real images and 0 for fake images, so we need to set up the losses to reflect that.\n",
    "\n",
    "\n",
    "### Generator Loss\n",
    "\n",
    "The generator loss will look similar only with flipped labels. The generator's goal is to get the discriminator to *think* its generated images are *real*.\n",
    "\n",
    "#### Exercise: Complete real and fake loss functions\n",
    "\n",
    "**You may choose to use either cross entropy or a least squares error loss to complete the following `real_loss` and `fake_loss` functions.**"
   ]
  },
  {
   "cell_type": "code",
   "execution_count": 0,
   "metadata": {
    "colab": {},
    "colab_type": "code",
    "id": "fS_2Tff6Xkl-"
   },
   "outputs": [],
   "source": [
    "def real_loss(D_out):\n",
    "    '''Calculates how close discriminator outputs are to being real.\n",
    "       param, D_out: discriminator logits\n",
    "       return: real loss'''\n",
    "    batch_size = D_out.size(0)\n",
    "    labels = torch.ones(batch_size)\n",
    "    if train_on_gpu:\n",
    "        labels = labels.cuda()\n",
    "    criterion = nn.BCEWithLogitsLoss()\n",
    "    loss = criterion(D_out.squeeze(), labels)\n",
    "    return loss\n",
    "\n",
    "def fake_loss(D_out):\n",
    "    '''Calculates how close discriminator outputs are to being fake.\n",
    "       param, D_out: discriminator logits\n",
    "       return: fake loss'''\n",
    "    batch_size = D_out.size(0)\n",
    "    labels = torch.zeros(batch_size)\n",
    "    if train_on_gpu:\n",
    "        labels = labels.cuda()\n",
    "    criterion = nn.BCEWithLogitsLoss()\n",
    "    loss = criterion(D_out.squeeze(), labels) \n",
    "    return loss"
   ]
  },
  {
   "cell_type": "markdown",
   "metadata": {
    "colab_type": "text",
    "id": "tjL49duXXkmH"
   },
   "source": [
    "## Optimizers\n",
    "\n",
    "#### Exercise: Define optimizers for your Discriminator (D) and Generator (G)\n",
    "\n",
    "Define optimizers for your models with appropriate hyperparameters."
   ]
  },
  {
   "cell_type": "code",
   "execution_count": 0,
   "metadata": {
    "colab": {},
    "colab_type": "code",
    "id": "PHzu6JQ-XkmJ"
   },
   "outputs": [],
   "source": [
    "import torch.optim as optim\n",
    "\n",
    "# params\n",
    "lr = 0.0005\n",
    "beta1=0.5\n",
    "beta2=0.999 \n",
    "\n",
    "# Create optimizers for the discriminator D and generator G\n",
    "d_optimizer = optim.Adam(D.parameters(), lr, [beta1, beta2])\n",
    "g_optimizer = optim.Adam(G.parameters(), lr, [beta1, beta2])"
   ]
  },
  {
   "cell_type": "markdown",
   "metadata": {
    "colab_type": "text",
    "id": "NZUPtr5TXkmP"
   },
   "source": [
    "---\n",
    "## Training\n",
    "\n",
    "Training will involve alternating between training the discriminator and the generator. You'll use your functions `real_loss` and `fake_loss` to help you calculate the discriminator losses.\n",
    "\n",
    "* You should train the discriminator by alternating on real and fake images\n",
    "* Then the generator, which tries to trick the discriminator and should have an opposing loss function\n",
    "\n",
    "\n",
    "#### Saving Samples\n",
    "\n",
    "You've been given some code to print out some loss statistics and save some generated \"fake\" samples."
   ]
  },
  {
   "cell_type": "markdown",
   "metadata": {
    "colab_type": "text",
    "id": "00ETM9ksXkmR"
   },
   "source": [
    "#### Exercise: Complete the training function\n",
    "\n",
    "Keep in mind that, if you've moved your models to GPU, you'll also have to move any model inputs to GPU."
   ]
  },
  {
   "cell_type": "code",
   "execution_count": 0,
   "metadata": {
    "colab": {},
    "colab_type": "code",
    "id": "cr4hB8iaXkmX"
   },
   "outputs": [],
   "source": [
    "def train(D, G, n_epochs, print_every=50):\n",
    "    '''Trains adversarial networks for some number of epochs\n",
    "       param, D: the discriminator network\n",
    "       param, G: the generator network\n",
    "       param, n_epochs: number of epochs to train for\n",
    "       param, print_every: when to print and record the models' losses\n",
    "       return: D and G losses'''\n",
    "    \n",
    "    # move models to GPU\n",
    "    if train_on_gpu:\n",
    "        D.cuda()\n",
    "        G.cuda()\n",
    "\n",
    "    # keep track of loss and generated, \"fake\" samples\n",
    "    samples = []\n",
    "    losses = []\n",
    "\n",
    "    # Get some fixed data for sampling. These are images that are held\n",
    "    # constant throughout training, and allow us to inspect the model's performance\n",
    "    sample_size=16\n",
    "    fixed_z = np.random.uniform(-1, 1, size=(sample_size, z_size))\n",
    "    fixed_z = torch.from_numpy(fixed_z).float()\n",
    "    # move z to GPU if available\n",
    "    if train_on_gpu:\n",
    "        fixed_z = fixed_z.cuda()\n",
    "\n",
    "    # epoch training loop\n",
    "    for epoch in range(n_epochs):\n",
    "\n",
    "        # batch training loop\n",
    "        for batch_i, (real_images, _) in enumerate(celeba_train_loader):\n",
    "\n",
    "            batch_size = real_images.size(0)\n",
    "            real_images = scale(real_images)\n",
    "\n",
    "            # ===============================================\n",
    "            #         YOUR CODE HERE: TRAIN THE NETWORKS\n",
    "            # ===============================================\n",
    "            \n",
    "            # 1. Train the discriminator on real and fake images\n",
    "            \n",
    "            # Train with real images, calculate real loss\n",
    "            d_optimizer.zero_grad()\n",
    "            if train_on_gpu:\n",
    "                real_images = real_images.cuda()\n",
    "        \n",
    "            D_real = D(real_images)\n",
    "            d_real_loss = real_loss(D_real)\n",
    "            \n",
    "            # Generate fake images\n",
    "            z = np.random.uniform(-1, 1, size=(batch_size, z_size))\n",
    "            z = torch.from_numpy(z).float()\n",
    "            # move x to GPU, if available\n",
    "            if train_on_gpu:\n",
    "                z = z.cuda()\n",
    "            fake_images = G(z)\n",
    "            \n",
    "            # Compute the discriminator losses on fake images            \n",
    "            D_fake = D(fake_images)\n",
    "            d_fake_loss = fake_loss(D_fake)\n",
    "\n",
    "            # add up loss and perform backprop\n",
    "            d_loss = d_real_loss + d_fake_loss\n",
    "            d_loss.backward()\n",
    "            d_optimizer.step()\n",
    "\n",
    "            # 2. Train the generator with an adversarial loss\n",
    "            \n",
    "            g_optimizer.zero_grad()\n",
    "        \n",
    "            # 1. Train with fake images and flipped labels\n",
    "\n",
    "            # Generate fake images\n",
    "            z = np.random.uniform(-1, 1, size=(batch_size, z_size))\n",
    "            z = torch.from_numpy(z).float()\n",
    "            if train_on_gpu:\n",
    "                z = z.cuda()\n",
    "            fake_images = G(z)\n",
    "\n",
    "            # Compute the discriminator losses on fake images \n",
    "            # using flipped labels!\n",
    "            D_fake = D(fake_images)\n",
    "            g_loss = real_loss(D_fake) # use real loss to flip labels\n",
    "\n",
    "            # perform backprop\n",
    "            g_loss.backward()\n",
    "            g_optimizer.step()\n",
    "        \n",
    "            \n",
    "            \n",
    "            # ===============================================\n",
    "            #              END OF YOUR CODE\n",
    "            # ===============================================\n",
    "\n",
    "            # Print some loss stats\n",
    "            if batch_i % print_every == 0:\n",
    "                # append discriminator loss and generator loss\n",
    "                losses.append((d_loss.item(), g_loss.item()))\n",
    "                # print discriminator and generator loss\n",
    "                print('Epoch [{:5d}/{:5d}] | d_loss: {:6.4f} | g_loss: {:6.4f}'.format(\n",
    "                        epoch+1, n_epochs, d_loss.item(), g_loss.item()))\n",
    "\n",
    "\n",
    "        ## AFTER EACH EPOCH##    \n",
    "        # this code assumes your generator is named G, feel free to change the name\n",
    "        # generate and save sample, fake images\n",
    "        G.eval() # for generating samples\n",
    "        samples_z = G(fixed_z)\n",
    "        samples.append(samples_z)\n",
    "        G.train() # back to training mode\n",
    "\n",
    "    # Save training generator samples\n",
    "    with open('train_samples.pkl', 'wb') as f:\n",
    "        pkl.dump(samples, f)\n",
    "    \n",
    "    # finally return losses\n",
    "    return losses"
   ]
  },
  {
   "cell_type": "markdown",
   "metadata": {
    "colab_type": "text",
    "id": "4Z3IKhkXXkmi"
   },
   "source": [
    "Set your number of training epochs and train your GAN!"
   ]
  },
  {
   "cell_type": "code",
   "execution_count": 18,
   "metadata": {
    "colab": {
     "base_uri": "https://localhost:8080/",
     "height": 5477
    },
    "colab_type": "code",
    "id": "nBdaqwTqXkmj",
    "outputId": "e2177d9f-02e0-4e14-e616-968ed838857c"
   },
   "outputs": [
    {
     "name": "stdout",
     "output_type": "stream",
     "text": [
      "Epoch [    1/   20] | d_loss: 4.8049 | g_loss: 2.8538\n",
      "Epoch [    1/   20] | d_loss: 0.0326 | g_loss: 10.8910\n",
      "Epoch [    1/   20] | d_loss: 0.0297 | g_loss: 10.8659\n",
      "Epoch [    1/   20] | d_loss: 0.0713 | g_loss: 10.9917\n",
      "Epoch [    1/   20] | d_loss: 0.0517 | g_loss: 12.2194\n",
      "Epoch [    1/   20] | d_loss: 0.1334 | g_loss: 16.8186\n",
      "Epoch [    1/   20] | d_loss: 0.1599 | g_loss: 8.6622\n",
      "Epoch [    1/   20] | d_loss: 0.1651 | g_loss: 8.1557\n",
      "Epoch [    1/   20] | d_loss: 0.2889 | g_loss: 4.0903\n",
      "Epoch [    1/   20] | d_loss: 0.3335 | g_loss: 6.0808\n",
      "Epoch [    1/   20] | d_loss: 0.2265 | g_loss: 5.9383\n",
      "Epoch [    1/   20] | d_loss: 0.3198 | g_loss: 5.5433\n",
      "Epoch [    1/   20] | d_loss: 0.2769 | g_loss: 4.3630\n",
      "Epoch [    1/   20] | d_loss: 0.3573 | g_loss: 3.8120\n",
      "Epoch [    1/   20] | d_loss: 2.9425 | g_loss: 14.9498\n",
      "Epoch [    2/   20] | d_loss: 1.5286 | g_loss: 11.0174\n",
      "Epoch [    2/   20] | d_loss: 0.4044 | g_loss: 6.1160\n",
      "Epoch [    2/   20] | d_loss: 0.2762 | g_loss: 5.9253\n",
      "Epoch [    2/   20] | d_loss: 0.2847 | g_loss: 6.8823\n",
      "Epoch [    2/   20] | d_loss: 0.7427 | g_loss: 5.4249\n",
      "Epoch [    2/   20] | d_loss: 0.7550 | g_loss: 1.6145\n",
      "Epoch [    2/   20] | d_loss: 0.3674 | g_loss: 2.7894\n",
      "Epoch [    2/   20] | d_loss: 0.7259 | g_loss: 5.1959\n",
      "Epoch [    2/   20] | d_loss: 2.7770 | g_loss: 1.2464\n",
      "Epoch [    2/   20] | d_loss: 0.6361 | g_loss: 5.2198\n",
      "Epoch [    2/   20] | d_loss: 1.1556 | g_loss: 7.1378\n",
      "Epoch [    2/   20] | d_loss: 1.3818 | g_loss: 5.7098\n",
      "Epoch [    2/   20] | d_loss: 0.8038 | g_loss: 3.1863\n",
      "Epoch [    2/   20] | d_loss: 1.1827 | g_loss: 0.6061\n",
      "Epoch [    2/   20] | d_loss: 1.5055 | g_loss: 4.8381\n",
      "Epoch [    3/   20] | d_loss: 1.4825 | g_loss: 2.1249\n",
      "Epoch [    3/   20] | d_loss: 2.3018 | g_loss: 0.4739\n",
      "Epoch [    3/   20] | d_loss: 0.9699 | g_loss: 1.5586\n",
      "Epoch [    3/   20] | d_loss: 0.6195 | g_loss: 3.7213\n",
      "Epoch [    3/   20] | d_loss: 1.8965 | g_loss: 0.8141\n",
      "Epoch [    3/   20] | d_loss: 0.6623 | g_loss: 2.5027\n",
      "Epoch [    3/   20] | d_loss: 0.5401 | g_loss: 2.3608\n",
      "Epoch [    3/   20] | d_loss: 1.0369 | g_loss: 3.5826\n",
      "Epoch [    3/   20] | d_loss: 2.0026 | g_loss: 4.5599\n",
      "Epoch [    3/   20] | d_loss: 1.2838 | g_loss: 4.5938\n",
      "Epoch [    3/   20] | d_loss: 0.7661 | g_loss: 3.6832\n",
      "Epoch [    3/   20] | d_loss: 2.3831 | g_loss: 0.7622\n",
      "Epoch [    3/   20] | d_loss: 0.7551 | g_loss: 1.2460\n",
      "Epoch [    3/   20] | d_loss: 0.7382 | g_loss: 4.1395\n",
      "Epoch [    3/   20] | d_loss: 0.9496 | g_loss: 1.5320\n",
      "Epoch [    4/   20] | d_loss: 0.7308 | g_loss: 1.7365\n",
      "Epoch [    4/   20] | d_loss: 0.8988 | g_loss: 3.3858\n",
      "Epoch [    4/   20] | d_loss: 0.6379 | g_loss: 1.1599\n",
      "Epoch [    4/   20] | d_loss: 0.9223 | g_loss: 3.0142\n",
      "Epoch [    4/   20] | d_loss: 0.6961 | g_loss: 1.6350\n",
      "Epoch [    4/   20] | d_loss: 0.7983 | g_loss: 1.7031\n",
      "Epoch [    4/   20] | d_loss: 0.8202 | g_loss: 2.1240\n",
      "Epoch [    4/   20] | d_loss: 1.0687 | g_loss: 2.9196\n",
      "Epoch [    4/   20] | d_loss: 1.0265 | g_loss: 0.6856\n",
      "Epoch [    4/   20] | d_loss: 0.8855 | g_loss: 3.4451\n",
      "Epoch [    4/   20] | d_loss: 0.5918 | g_loss: 1.2914\n",
      "Epoch [    4/   20] | d_loss: 1.5814 | g_loss: 0.5580\n",
      "Epoch [    4/   20] | d_loss: 0.7122 | g_loss: 2.1442\n",
      "Epoch [    4/   20] | d_loss: 0.9630 | g_loss: 1.6666\n",
      "Epoch [    4/   20] | d_loss: 0.3951 | g_loss: 3.6207\n",
      "Epoch [    5/   20] | d_loss: 0.7175 | g_loss: 1.3660\n",
      "Epoch [    5/   20] | d_loss: 1.3271 | g_loss: 0.8341\n",
      "Epoch [    5/   20] | d_loss: 0.6761 | g_loss: 0.8474\n",
      "Epoch [    5/   20] | d_loss: 1.4324 | g_loss: 0.6993\n",
      "Epoch [    5/   20] | d_loss: 0.9464 | g_loss: 3.9410\n",
      "Epoch [    5/   20] | d_loss: 1.0830 | g_loss: 3.3580\n",
      "Epoch [    5/   20] | d_loss: 0.8875 | g_loss: 3.3050\n",
      "Epoch [    5/   20] | d_loss: 0.9957 | g_loss: 0.4789\n",
      "Epoch [    5/   20] | d_loss: 0.8523 | g_loss: 3.4945\n",
      "Epoch [    5/   20] | d_loss: 0.6965 | g_loss: 0.8461\n",
      "Epoch [    5/   20] | d_loss: 0.6579 | g_loss: 2.1674\n",
      "Epoch [    5/   20] | d_loss: 1.0704 | g_loss: 4.2452\n",
      "Epoch [    5/   20] | d_loss: 0.4507 | g_loss: 2.4612\n",
      "Epoch [    5/   20] | d_loss: 0.5506 | g_loss: 2.8672\n",
      "Epoch [    5/   20] | d_loss: 0.5564 | g_loss: 2.5747\n",
      "Epoch [    6/   20] | d_loss: 0.5664 | g_loss: 1.7161\n",
      "Epoch [    6/   20] | d_loss: 1.1020 | g_loss: 1.2144\n",
      "Epoch [    6/   20] | d_loss: 0.5382 | g_loss: 2.1183\n",
      "Epoch [    6/   20] | d_loss: 1.1240 | g_loss: 0.9430\n",
      "Epoch [    6/   20] | d_loss: 0.8061 | g_loss: 3.1636\n",
      "Epoch [    6/   20] | d_loss: 0.7525 | g_loss: 1.3555\n",
      "Epoch [    6/   20] | d_loss: 0.6696 | g_loss: 1.9646\n",
      "Epoch [    6/   20] | d_loss: 1.2983 | g_loss: 4.3225\n",
      "Epoch [    6/   20] | d_loss: 0.6948 | g_loss: 2.2007\n",
      "Epoch [    6/   20] | d_loss: 0.4481 | g_loss: 3.3886\n",
      "Epoch [    6/   20] | d_loss: 0.6953 | g_loss: 1.5497\n",
      "Epoch [    6/   20] | d_loss: 0.6228 | g_loss: 3.6420\n",
      "Epoch [    6/   20] | d_loss: 0.8359 | g_loss: 3.0329\n",
      "Epoch [    6/   20] | d_loss: 0.6748 | g_loss: 1.9406\n",
      "Epoch [    6/   20] | d_loss: 1.4189 | g_loss: 3.9512\n",
      "Epoch [    7/   20] | d_loss: 0.5905 | g_loss: 3.4351\n",
      "Epoch [    7/   20] | d_loss: 0.7788 | g_loss: 2.2864\n",
      "Epoch [    7/   20] | d_loss: 0.6590 | g_loss: 1.4844\n",
      "Epoch [    7/   20] | d_loss: 0.6415 | g_loss: 1.7038\n",
      "Epoch [    7/   20] | d_loss: 0.5995 | g_loss: 2.1505\n",
      "Epoch [    7/   20] | d_loss: 1.4144 | g_loss: 0.6043\n",
      "Epoch [    7/   20] | d_loss: 0.9138 | g_loss: 1.0964\n",
      "Epoch [    7/   20] | d_loss: 0.4995 | g_loss: 2.7437\n",
      "Epoch [    7/   20] | d_loss: 0.8578 | g_loss: 1.2830\n",
      "Epoch [    7/   20] | d_loss: 2.3101 | g_loss: 0.2767\n",
      "Epoch [    7/   20] | d_loss: 0.8902 | g_loss: 3.0710\n",
      "Epoch [    7/   20] | d_loss: 1.3664 | g_loss: 0.4846\n",
      "Epoch [    7/   20] | d_loss: 1.2566 | g_loss: 1.7169\n",
      "Epoch [    7/   20] | d_loss: 0.4076 | g_loss: 2.4526\n",
      "Epoch [    7/   20] | d_loss: 1.2598 | g_loss: 0.4512\n",
      "Epoch [    8/   20] | d_loss: 1.8572 | g_loss: 8.2997\n",
      "Epoch [    8/   20] | d_loss: 0.6510 | g_loss: 2.1786\n",
      "Epoch [    8/   20] | d_loss: 0.8578 | g_loss: 2.7721\n",
      "Epoch [    8/   20] | d_loss: 1.2929 | g_loss: 1.2751\n",
      "Epoch [    8/   20] | d_loss: 0.7502 | g_loss: 1.9421\n",
      "Epoch [    8/   20] | d_loss: 1.2132 | g_loss: 3.0789\n",
      "Epoch [    8/   20] | d_loss: 0.5443 | g_loss: 3.2627\n",
      "Epoch [    8/   20] | d_loss: 0.4488 | g_loss: 2.0710\n",
      "Epoch [    8/   20] | d_loss: 0.9268 | g_loss: 3.2863\n",
      "Epoch [    8/   20] | d_loss: 1.1519 | g_loss: 1.3294\n",
      "Epoch [    8/   20] | d_loss: 0.5318 | g_loss: 2.4520\n",
      "Epoch [    8/   20] | d_loss: 0.3068 | g_loss: 1.9337\n",
      "Epoch [    8/   20] | d_loss: 0.8225 | g_loss: 2.3835\n",
      "Epoch [    8/   20] | d_loss: 1.6131 | g_loss: 5.5459\n",
      "Epoch [    8/   20] | d_loss: 0.7960 | g_loss: 2.5663\n",
      "Epoch [    9/   20] | d_loss: 0.5411 | g_loss: 1.8166\n",
      "Epoch [    9/   20] | d_loss: 0.2495 | g_loss: 3.4738\n",
      "Epoch [    9/   20] | d_loss: 0.8031 | g_loss: 1.6282\n",
      "Epoch [    9/   20] | d_loss: 0.4837 | g_loss: 1.8770\n",
      "Epoch [    9/   20] | d_loss: 0.8848 | g_loss: 4.5650\n",
      "Epoch [    9/   20] | d_loss: 0.4005 | g_loss: 1.7538\n",
      "Epoch [    9/   20] | d_loss: 0.4574 | g_loss: 2.1447\n",
      "Epoch [    9/   20] | d_loss: 0.5030 | g_loss: 2.2753\n",
      "Epoch [    9/   20] | d_loss: 0.9894 | g_loss: 4.3488\n",
      "Epoch [    9/   20] | d_loss: 1.0037 | g_loss: 1.2555\n",
      "Epoch [    9/   20] | d_loss: 0.8036 | g_loss: 2.0585\n",
      "Epoch [    9/   20] | d_loss: 0.6904 | g_loss: 3.8899\n",
      "Epoch [    9/   20] | d_loss: 0.7486 | g_loss: 1.5315\n",
      "Epoch [    9/   20] | d_loss: 0.6102 | g_loss: 2.1724\n",
      "Epoch [    9/   20] | d_loss: 1.0473 | g_loss: 4.0227\n",
      "Epoch [   10/   20] | d_loss: 0.9873 | g_loss: 4.0981\n",
      "Epoch [   10/   20] | d_loss: 0.2808 | g_loss: 2.7058\n",
      "Epoch [   10/   20] | d_loss: 0.6666 | g_loss: 2.4670\n",
      "Epoch [   10/   20] | d_loss: 0.5041 | g_loss: 1.7561\n",
      "Epoch [   10/   20] | d_loss: 0.4736 | g_loss: 2.7302\n",
      "Epoch [   10/   20] | d_loss: 0.6747 | g_loss: 2.2250\n",
      "Epoch [   10/   20] | d_loss: 0.6593 | g_loss: 3.2869\n",
      "Epoch [   10/   20] | d_loss: 0.4855 | g_loss: 1.7292\n",
      "Epoch [   10/   20] | d_loss: 0.3086 | g_loss: 2.6813\n",
      "Epoch [   10/   20] | d_loss: 0.2781 | g_loss: 2.7399\n",
      "Epoch [   10/   20] | d_loss: 0.3092 | g_loss: 2.5793\n",
      "Epoch [   10/   20] | d_loss: 0.5477 | g_loss: 2.2518\n",
      "Epoch [   10/   20] | d_loss: 0.4592 | g_loss: 2.5815\n",
      "Epoch [   10/   20] | d_loss: 0.6281 | g_loss: 1.7881\n",
      "Epoch [   10/   20] | d_loss: 0.4027 | g_loss: 3.1826\n",
      "Epoch [   11/   20] | d_loss: 0.2971 | g_loss: 2.5243\n",
      "Epoch [   11/   20] | d_loss: 0.4512 | g_loss: 2.3837\n",
      "Epoch [   11/   20] | d_loss: 0.7020 | g_loss: 1.7172\n",
      "Epoch [   11/   20] | d_loss: 1.1067 | g_loss: 3.6717\n",
      "Epoch [   11/   20] | d_loss: 0.9255 | g_loss: 1.7472\n",
      "Epoch [   11/   20] | d_loss: 0.6953 | g_loss: 3.2758\n",
      "Epoch [   11/   20] | d_loss: 0.8519 | g_loss: 3.6740\n",
      "Epoch [   11/   20] | d_loss: 0.4556 | g_loss: 4.3069\n",
      "Epoch [   11/   20] | d_loss: 1.2275 | g_loss: 7.6479\n",
      "Epoch [   11/   20] | d_loss: 0.4717 | g_loss: 2.4890\n",
      "Epoch [   11/   20] | d_loss: 0.7914 | g_loss: 3.0009\n",
      "Epoch [   11/   20] | d_loss: 0.1899 | g_loss: 2.8802\n",
      "Epoch [   11/   20] | d_loss: 4.4041 | g_loss: 6.3751\n",
      "Epoch [   11/   20] | d_loss: 0.3435 | g_loss: 2.7196\n",
      "Epoch [   11/   20] | d_loss: 0.6201 | g_loss: 3.8499\n",
      "Epoch [   12/   20] | d_loss: 0.3691 | g_loss: 2.6221\n",
      "Epoch [   12/   20] | d_loss: 0.3668 | g_loss: 2.6597\n",
      "Epoch [   12/   20] | d_loss: 1.4489 | g_loss: 0.4800\n",
      "Epoch [   12/   20] | d_loss: 0.6898 | g_loss: 1.6821\n",
      "Epoch [   12/   20] | d_loss: 0.8156 | g_loss: 2.2560\n",
      "Epoch [   12/   20] | d_loss: 0.7000 | g_loss: 2.0357\n",
      "Epoch [   12/   20] | d_loss: 0.3152 | g_loss: 3.0767\n",
      "Epoch [   12/   20] | d_loss: 0.4606 | g_loss: 2.4647\n",
      "Epoch [   12/   20] | d_loss: 0.3178 | g_loss: 3.1850\n",
      "Epoch [   12/   20] | d_loss: 0.8445 | g_loss: 2.3767\n",
      "Epoch [   12/   20] | d_loss: 0.9198 | g_loss: 2.9264\n",
      "Epoch [   12/   20] | d_loss: 0.9501 | g_loss: 1.3603\n",
      "Epoch [   12/   20] | d_loss: 0.4458 | g_loss: 2.6272\n",
      "Epoch [   12/   20] | d_loss: 0.2279 | g_loss: 3.0245\n",
      "Epoch [   12/   20] | d_loss: 0.4022 | g_loss: 1.9757\n",
      "Epoch [   13/   20] | d_loss: 0.5861 | g_loss: 3.0438\n",
      "Epoch [   13/   20] | d_loss: 0.4497 | g_loss: 3.3167\n",
      "Epoch [   13/   20] | d_loss: 0.6073 | g_loss: 2.3639\n",
      "Epoch [   13/   20] | d_loss: 0.3856 | g_loss: 5.0277\n",
      "Epoch [   13/   20] | d_loss: 0.3947 | g_loss: 1.1258\n",
      "Epoch [   13/   20] | d_loss: 0.5646 | g_loss: 2.7205\n",
      "Epoch [   13/   20] | d_loss: 0.9278 | g_loss: 5.5379\n",
      "Epoch [   13/   20] | d_loss: 1.1844 | g_loss: 1.3014\n",
      "Epoch [   13/   20] | d_loss: 1.0799 | g_loss: 4.3805\n",
      "Epoch [   13/   20] | d_loss: 0.3742 | g_loss: 2.0945\n",
      "Epoch [   13/   20] | d_loss: 0.5662 | g_loss: 2.2595\n",
      "Epoch [   13/   20] | d_loss: 0.2960 | g_loss: 1.2375\n",
      "Epoch [   13/   20] | d_loss: 0.1744 | g_loss: 3.0975\n",
      "Epoch [   13/   20] | d_loss: 0.4560 | g_loss: 1.6426\n",
      "Epoch [   13/   20] | d_loss: 0.4921 | g_loss: 2.1376\n",
      "Epoch [   14/   20] | d_loss: 0.3837 | g_loss: 3.1508\n",
      "Epoch [   14/   20] | d_loss: 0.1831 | g_loss: 4.2475\n",
      "Epoch [   14/   20] | d_loss: 0.1897 | g_loss: 3.3537\n",
      "Epoch [   14/   20] | d_loss: 0.5227 | g_loss: 1.5157\n",
      "Epoch [   14/   20] | d_loss: 0.7061 | g_loss: 3.0742\n",
      "Epoch [   14/   20] | d_loss: 0.2822 | g_loss: 3.0173\n",
      "Epoch [   14/   20] | d_loss: 0.9107 | g_loss: 0.9236\n",
      "Epoch [   14/   20] | d_loss: 0.3075 | g_loss: 3.5937\n",
      "Epoch [   14/   20] | d_loss: 0.4332 | g_loss: 3.3311\n",
      "Epoch [   14/   20] | d_loss: 0.4702 | g_loss: 2.9343\n",
      "Epoch [   14/   20] | d_loss: 0.4006 | g_loss: 2.5772\n",
      "Epoch [   14/   20] | d_loss: 0.7456 | g_loss: 1.5585\n",
      "Epoch [   14/   20] | d_loss: 0.8926 | g_loss: 3.3043\n",
      "Epoch [   14/   20] | d_loss: 0.4952 | g_loss: 2.8372\n",
      "Epoch [   14/   20] | d_loss: 0.7561 | g_loss: 2.1988\n",
      "Epoch [   15/   20] | d_loss: 1.3548 | g_loss: 1.2888\n",
      "Epoch [   15/   20] | d_loss: 0.2233 | g_loss: 3.5778\n",
      "Epoch [   15/   20] | d_loss: 0.5012 | g_loss: 3.4900\n",
      "Epoch [   15/   20] | d_loss: 1.2504 | g_loss: 0.9180\n",
      "Epoch [   15/   20] | d_loss: 0.7945 | g_loss: 3.1496\n",
      "Epoch [   15/   20] | d_loss: 1.3868 | g_loss: 4.4923\n",
      "Epoch [   15/   20] | d_loss: 0.9559 | g_loss: 1.7344\n",
      "Epoch [   15/   20] | d_loss: 0.3224 | g_loss: 3.9015\n",
      "Epoch [   15/   20] | d_loss: 0.5570 | g_loss: 1.2330\n",
      "Epoch [   15/   20] | d_loss: 0.4296 | g_loss: 2.7706\n",
      "Epoch [   15/   20] | d_loss: 0.4293 | g_loss: 3.3246\n",
      "Epoch [   15/   20] | d_loss: 0.1840 | g_loss: 3.1476\n",
      "Epoch [   15/   20] | d_loss: 0.2171 | g_loss: 3.2106\n",
      "Epoch [   15/   20] | d_loss: 0.6696 | g_loss: 1.4752\n",
      "Epoch [   15/   20] | d_loss: 0.6962 | g_loss: 2.8377\n",
      "Epoch [   16/   20] | d_loss: 0.7493 | g_loss: 3.1932\n",
      "Epoch [   16/   20] | d_loss: 0.1507 | g_loss: 4.2197\n",
      "Epoch [   16/   20] | d_loss: 0.2916 | g_loss: 3.7901\n",
      "Epoch [   16/   20] | d_loss: 0.6554 | g_loss: 1.7820\n",
      "Epoch [   16/   20] | d_loss: 0.2447 | g_loss: 3.7889\n",
      "Epoch [   16/   20] | d_loss: 0.1962 | g_loss: 2.6472\n",
      "Epoch [   16/   20] | d_loss: 0.2925 | g_loss: 3.2459\n",
      "Epoch [   16/   20] | d_loss: 0.7310 | g_loss: 1.9805\n",
      "Epoch [   16/   20] | d_loss: 1.0088 | g_loss: 1.1294\n",
      "Epoch [   16/   20] | d_loss: 0.6445 | g_loss: 2.6900\n",
      "Epoch [   16/   20] | d_loss: 0.5346 | g_loss: 2.4391\n",
      "Epoch [   16/   20] | d_loss: 0.3613 | g_loss: 2.6684\n",
      "Epoch [   16/   20] | d_loss: 0.3039 | g_loss: 3.4912\n",
      "Epoch [   16/   20] | d_loss: 0.8811 | g_loss: 1.4381\n",
      "Epoch [   16/   20] | d_loss: 0.2192 | g_loss: 3.7481\n",
      "Epoch [   17/   20] | d_loss: 0.2042 | g_loss: 3.9870\n",
      "Epoch [   17/   20] | d_loss: 0.3209 | g_loss: 3.4427\n",
      "Epoch [   17/   20] | d_loss: 0.3435 | g_loss: 3.8156\n",
      "Epoch [   17/   20] | d_loss: 0.3389 | g_loss: 3.4662\n",
      "Epoch [   17/   20] | d_loss: 0.4663 | g_loss: 3.3439\n",
      "Epoch [   17/   20] | d_loss: 2.1741 | g_loss: 0.2184\n",
      "Epoch [   17/   20] | d_loss: 0.2161 | g_loss: 3.1355\n",
      "Epoch [   17/   20] | d_loss: 0.5390 | g_loss: 3.6956\n",
      "Epoch [   17/   20] | d_loss: 3.0100 | g_loss: 0.4044\n",
      "Epoch [   17/   20] | d_loss: 0.9473 | g_loss: 1.2293\n",
      "Epoch [   17/   20] | d_loss: 0.2692 | g_loss: 3.0775\n",
      "Epoch [   17/   20] | d_loss: 0.5168 | g_loss: 5.6090\n",
      "Epoch [   17/   20] | d_loss: 0.5298 | g_loss: 1.9401\n",
      "Epoch [   17/   20] | d_loss: 5.2229 | g_loss: 0.3594\n",
      "Epoch [   17/   20] | d_loss: 0.2848 | g_loss: 2.9476\n",
      "Epoch [   18/   20] | d_loss: 0.4518 | g_loss: 3.1895\n",
      "Epoch [   18/   20] | d_loss: 0.3703 | g_loss: 2.8107\n",
      "Epoch [   18/   20] | d_loss: 0.2169 | g_loss: 3.4961\n",
      "Epoch [   18/   20] | d_loss: 5.0871 | g_loss: 0.1549\n",
      "Epoch [   18/   20] | d_loss: 0.3563 | g_loss: 3.0509\n",
      "Epoch [   18/   20] | d_loss: 0.2933 | g_loss: 4.0722\n",
      "Epoch [   18/   20] | d_loss: 1.2497 | g_loss: 2.8594\n",
      "Epoch [   18/   20] | d_loss: 0.4950 | g_loss: 3.1879\n",
      "Epoch [   18/   20] | d_loss: 0.2161 | g_loss: 3.1063\n",
      "Epoch [   18/   20] | d_loss: 0.2900 | g_loss: 2.9261\n",
      "Epoch [   18/   20] | d_loss: 0.0862 | g_loss: 3.2360\n",
      "Epoch [   18/   20] | d_loss: 0.1951 | g_loss: 3.5535\n",
      "Epoch [   18/   20] | d_loss: 0.0975 | g_loss: 4.8881\n",
      "Epoch [   18/   20] | d_loss: 0.3990 | g_loss: 1.4848\n",
      "Epoch [   18/   20] | d_loss: 0.4746 | g_loss: 2.2372\n",
      "Epoch [   19/   20] | d_loss: 0.2352 | g_loss: 2.3296\n",
      "Epoch [   19/   20] | d_loss: 0.1545 | g_loss: 3.2369\n",
      "Epoch [   19/   20] | d_loss: 0.6528 | g_loss: 1.5269\n",
      "Epoch [   19/   20] | d_loss: 0.2936 | g_loss: 2.0247\n",
      "Epoch [   19/   20] | d_loss: 1.1962 | g_loss: 1.8270\n",
      "Epoch [   19/   20] | d_loss: 0.1834 | g_loss: 2.8727\n",
      "Epoch [   19/   20] | d_loss: 0.1032 | g_loss: 3.4291\n",
      "Epoch [   19/   20] | d_loss: 0.6584 | g_loss: 3.0251\n",
      "Epoch [   19/   20] | d_loss: 0.3327 | g_loss: 2.3488\n",
      "Epoch [   19/   20] | d_loss: 0.2524 | g_loss: 3.2406\n",
      "Epoch [   19/   20] | d_loss: 0.1963 | g_loss: 2.7420\n",
      "Epoch [   19/   20] | d_loss: 2.0966 | g_loss: 4.8423\n",
      "Epoch [   19/   20] | d_loss: 0.3462 | g_loss: 2.5029\n",
      "Epoch [   19/   20] | d_loss: 0.1600 | g_loss: 3.5927\n",
      "Epoch [   19/   20] | d_loss: 1.2248 | g_loss: 5.2895\n",
      "Epoch [   20/   20] | d_loss: 0.2461 | g_loss: 2.8502\n",
      "Epoch [   20/   20] | d_loss: 0.1254 | g_loss: 3.8045\n",
      "Epoch [   20/   20] | d_loss: 0.1122 | g_loss: 3.4769\n",
      "Epoch [   20/   20] | d_loss: 0.6090 | g_loss: 3.0147\n",
      "Epoch [   20/   20] | d_loss: 0.1963 | g_loss: 3.5275\n",
      "Epoch [   20/   20] | d_loss: 0.1388 | g_loss: 3.1923\n",
      "Epoch [   20/   20] | d_loss: 0.1451 | g_loss: 3.4415\n",
      "Epoch [   20/   20] | d_loss: 3.7225 | g_loss: 0.1195\n",
      "Epoch [   20/   20] | d_loss: 1.0614 | g_loss: 1.2556\n",
      "Epoch [   20/   20] | d_loss: 0.3440 | g_loss: 2.3941\n",
      "Epoch [   20/   20] | d_loss: 0.4579 | g_loss: 1.7275\n",
      "Epoch [   20/   20] | d_loss: 0.5136 | g_loss: 2.0820\n",
      "Epoch [   20/   20] | d_loss: 0.3410 | g_loss: 3.0622\n",
      "Epoch [   20/   20] | d_loss: 0.4854 | g_loss: 2.0804\n",
      "Epoch [   20/   20] | d_loss: 0.3930 | g_loss: 3.1543\n"
     ]
    }
   ],
   "source": [
    "# set number of epochs \n",
    "n_epochs = 20\n",
    "\n",
    "\n",
    "\"\"\"\n",
    "DON'T MODIFY ANYTHING IN THIS CELL\n",
    "\"\"\"\n",
    "# call training function\n",
    "losses = train(D, G, n_epochs=n_epochs)"
   ]
  },
  {
   "cell_type": "markdown",
   "metadata": {
    "colab_type": "text",
    "collapsed": true,
    "id": "SUibm_AyXkmn"
   },
   "source": [
    "## Training loss\n",
    "\n",
    "Plot the training losses for the generator and discriminator, recorded after each epoch."
   ]
  },
  {
   "cell_type": "code",
   "execution_count": 19,
   "metadata": {
    "colab": {
     "base_uri": "https://localhost:8080/",
     "height": 299
    },
    "colab_type": "code",
    "id": "hGaLil_YXkmo",
    "outputId": "6a0abb0d-ecbb-4fd3-9d5a-e09fe5cfe8cc"
   },
   "outputs": [
    {
     "data": {
      "text/plain": [
       "<matplotlib.legend.Legend at 0x7f1a2718eb70>"
      ]
     },
     "execution_count": 19,
     "metadata": {
      "tags": []
     },
     "output_type": "execute_result"
    },
    {
     "data": {
      "image/png": "[encoded data removed]",
      "text/plain": [
       "<Figure size 432x288 with 1 Axes>"
      ]
     },
     "metadata": {
      "tags": []
     },
     "output_type": "display_data"
    }
   ],
   "source": [
    "fig, ax = plt.subplots()\n",
    "losses = np.array(losses)\n",
    "plt.plot(losses.T[0], label='Discriminator', alpha=0.5)\n",
    "plt.plot(losses.T[1], label='Generator', alpha=0.5)\n",
    "plt.title(\"Training Losses\")\n",
    "plt.legend()"
   ]
  },
  {
   "cell_type": "markdown",
   "metadata": {
    "colab_type": "text",
    "collapsed": true,
    "id": "qJaIJQLzXkmv"
   },
   "source": [
    "## Generator samples from training\n",
    "\n",
    "View samples of images from the generator, and answer a question about the strengths and weaknesses of your trained models."
   ]
  },
  {
   "cell_type": "code",
   "execution_count": 0,
   "metadata": {
    "colab": {},
    "colab_type": "code",
    "id": "s0LUgvanXkmv"
   },
   "outputs": [],
   "source": [
    "# helper function for viewing a list of passed in sample images\n",
    "def view_samples(epoch, samples):\n",
    "    fig, axes = plt.subplots(figsize=(16,4), nrows=2, ncols=8, sharey=True, sharex=True)\n",
    "    for ax, img in zip(axes.flatten(), samples[epoch]):\n",
    "        img = img.detach().cpu().numpy()\n",
    "        img = np.transpose(img, (1, 2, 0))\n",
    "        img = ((img + 1)*255 / (2)).astype(np.uint8)\n",
    "        ax.xaxis.set_visible(False)\n",
    "        ax.yaxis.set_visible(False)\n",
    "        im = ax.imshow(img.reshape((32,32,3)))"
   ]
  },
  {
   "cell_type": "code",
   "execution_count": 0,
   "metadata": {
    "colab": {},
    "colab_type": "code",
    "id": "WcKkiT8rXkm6"
   },
   "outputs": [],
   "source": [
    "# Load samples from generator, taken while training\n",
    "with open('train_samples.pkl', 'rb') as f:\n",
    "    samples = pkl.load(f)"
   ]
  },
  {
   "cell_type": "code",
   "execution_count": 22,
   "metadata": {
    "colab": {
     "base_uri": "https://localhost:8080/",
     "height": 244
    },
    "colab_type": "code",
    "id": "eTSqYOI1Xkm-",
    "outputId": "0311b806-b2f3-42d8-83b8-718ea542ad1f"
   },
   "outputs": [
    {
     "data": {
      "image/png": "[encoded data removed]",
      "text/plain": [
       "<Figure size 1152x288 with 16 Axes>"
      ]
     },
     "metadata": {
      "tags": []
     },
     "output_type": "display_data"
    }
   ],
   "source": [
    "_ = view_samples(-1, samples)"
   ]
  },
  {
   "cell_type": "markdown",
   "metadata": {
    "colab_type": "text",
    "id": "CjsWW73rXknE"
   },
   "source": [
    "### Question: What do you notice about your generated samples and how might you improve this model?\n",
    "When you answer this question, consider the following factors:\n",
    "* The dataset is biased; it is made of \"celebrity\" faces that are mostly white\n",
    "* Model size; larger models have the opportunity to learn more features in a data feature space\n",
    "* Optimization strategy; optimizers and number of epochs affect your final result\n"
   ]
  },
  {
   "cell_type": "markdown",
   "metadata": {
    "colab_type": "text",
    "id": "V7iof3BgXknF"
   },
   "source": [
    "**Answer:** \n",
    "1. This dataset has inherent biases in that it mostly consists of the faces of celebrities of which the majority are white caucasians. As a result, the model cannot generate human faces of other races that it hasn't \"seen\". More diverse samples of human face pictures are needed to make the model generate faces that are more representative of the general human population. \n",
    "2. Increasing the depths of the model (i.e. more channels) leads to smaller generator and discriminator losses which translates to better model performance and generated more realistic face pictures. Given more time, it is worthwhile to try out DCGAN models with more convolutional layers and deeper channel depths and also use 64 * 64 full resolution image for training. \n",
    "3. I experimented with different epoch numbers and learning rates. Considering the training time trade-off, a good choice of epoch numbers seems to be in the range of [20, 50]. Learning rates with reasonable good results are in the range of [0.0001, 0.001]. Given more time, it might be worthwhile to tune other hyperparameters such as beta1, beta2 or other optimizers like Adamax. "
   ]
  },
  {
   "cell_type": "markdown",
   "metadata": {
    "colab_type": "text",
    "id": "j5Q_flkRXknG"
   },
   "source": [
    "### Submitting This Project\n",
    "When submitting this project, make sure to run all the cells before saving the notebook. Save the notebook file as \"dlnd_face_generation.ipynb\" and save it as a HTML file under \"File\" -> \"Download as\". Include the \"problem_unittests.py\" files in your submission."
   ]
  }
 ],
 "metadata": {
  "accelerator": "GPU",
  "colab": {
   "collapsed_sections": [],
   "name": "dlnd_face_generation.ipynb",
   "provenance": [],
   "toc_visible": true,
   "version": "0.3.2"
  },
  "kernelspec": {
   "display_name": "Python 3",
   "language": "python",
   "name": "python3"
  },
  "language_info": {
   "codemirror_mode": {
    "name": "ipython",
    "version": 3
   },
   "file_extension": ".py",
   "mimetype": "text/x-python",
   "name": "python",
   "nbconvert_exporter": "python",
   "pygments_lexer": "ipython3",
   "version": "3.6.4"
  }
 },
 "nbformat": 4,
 "nbformat_minor": 1
}
