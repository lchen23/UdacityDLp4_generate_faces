{
 "cells": [
  {
   "cell_type": "markdown",
   "metadata": {
    "colab_type": "text",
    "id": "DijCWx-OXkjp"
   },
   "source": [
    "# Face Generation\n",
    "\n",
    "In this project, you'll define and train a DCGAN on a dataset of faces. Your goal is to get a generator network to generate *new* images of faces that look as realistic as possible!\n",
    "\n",
    "The project will be broken down into a series of tasks from **loading in data to defining and training adversarial networks**. At the end of the notebook, you'll be able to visualize the results of your trained Generator to see how it performs; your generated samples should look like fairly realistic faces with small amounts of noise.\n",
    "\n",
    "### Get the Data\n",
    "\n",
    "You'll be using the [CelebFaces Attributes Dataset (CelebA)](http://mmlab.ie.cuhk.edu.hk/projects/CelebA.html) to train your adversarial networks.\n",
    "\n",
    "This dataset is more complex than the number datasets (like MNIST or SVHN) you've been working with, and so, you should prepare to define deeper networks and train them for a longer time to get good results. It is suggested that you utilize a GPU for training.\n",
    "\n",
    "### Pre-processed Data\n",
    "\n",
    "Since the project's main focus is on building the GANs, we've done *some* of the pre-processing for you. Each of the CelebA images has been cropped to remove parts of the image that don't include a face, then resized down to 64x64x3 NumPy images. Some sample data is show below.\n",
    "\n",
    "<img src='assets/processed_face_data.png' width=60% />\n",
    "\n",
    "> If you are working locally, you can download this data [by clicking here](https://s3.amazonaws.com/video.udacity-data.com/topher/2018/November/5be7eb6f_processed-celeba-small/processed-celeba-small.zip)\n",
    "\n",
    "This is a zip file that you'll need to extract in the home directory of this notebook for further loading and processing. After extracting the data, you should be left with a directory of data `processed_celeba_small/`"
   ]
  },
  {
   "cell_type": "code",
   "execution_count": 0,
   "metadata": {
    "colab": {},
    "colab_type": "code",
    "id": "1VBb5GyXXkkB"
   },
   "outputs": [],
   "source": [
    "data_dir = 'processed_celeba_small/'\n",
    "\n",
    "\"\"\"\n",
    "DON'T MODIFY ANYTHING IN THIS CELL\n",
    "\"\"\"\n",
    "import pickle as pkl\n",
    "import matplotlib.pyplot as plt\n",
    "import numpy as np\n",
    "import problem_unittests as tests\n",
    "#import helper\n",
    "\n",
    "%matplotlib inline"
   ]
  },
  {
   "cell_type": "markdown",
   "metadata": {
    "colab_type": "text",
    "id": "pixkc09IXkkI"
   },
   "source": [
    "## Visualize the CelebA Data\n",
    "\n",
    "The [CelebA](http://mmlab.ie.cuhk.edu.hk/projects/CelebA.html) dataset contains over 200,000 celebrity images with annotations. Since you're going to be generating faces, you won't need the annotations, you'll only need the images. Note that these are color images with [3 color channels (RGB)](https://en.wikipedia.org/wiki/Channel_(digital_image)#RGB_Images) each.\n",
    "\n",
    "### Pre-process and Load the Data\n",
    "\n",
    "Since the project's main focus is on building the GANs, we've done *some* of the pre-processing for you. Each of the CelebA images has been cropped to remove parts of the image that don't include a face, then resized down to 64x64x3 NumPy images. This *pre-processed* dataset is a smaller subset of the very large CelebA data.\n",
    "\n",
    "> There are a few other steps that you'll need to **transform** this data and create a **DataLoader**.\n",
    "\n",
    "#### Exercise: Complete the following `get_dataloader` function, such that it satisfies these requirements:\n",
    "\n",
    "* Your images should be square, Tensor images of size `image_size x image_size` in the x and y dimension.\n",
    "* Your function should return a DataLoader that shuffles and batches these Tensor images.\n",
    "\n",
    "#### ImageFolder\n",
    "\n",
    "To create a dataset given a directory of images, it's recommended that you use PyTorch's [ImageFolder](https://pytorch.org/docs/stable/torchvision/datasets.html#imagefolder) wrapper, with a root directory `processed_celeba_small/` and data transformation passed in."
   ]
  },
  {
   "cell_type": "code",
   "execution_count": 0,
   "metadata": {
    "colab": {},
    "colab_type": "code",
    "id": "d8CTTAjkXkkM"
   },
   "outputs": [],
   "source": [
    "# necessary imports\n",
    "import torch\n",
    "from torchvision import datasets\n",
    "from torchvision import transforms\n",
    "from torch.utils.data import DataLoader"
   ]
  },
  {
   "cell_type": "code",
   "execution_count": 0,
   "metadata": {
    "colab": {},
    "colab_type": "code",
    "id": "muC4xdMBXkkT"
   },
   "outputs": [],
   "source": [
    "def get_dataloader(batch_size, image_size, data_dir='processed_celeba_small/'):\n",
    "    \"\"\"\n",
    "    Batch the neural network data using DataLoader\n",
    "    :param batch_size: The size of each batch; the number of images in a batch\n",
    "    :param img_size: The square size of the image data (x, y)\n",
    "    :param data_dir: Directory where image data is located\n",
    "    :return: DataLoader with batched data\n",
    "    \"\"\"\n",
    "    \n",
    "    # TODO: Implement function and return a dataloader\n",
    "    \n",
    "    # resize and normalize the images\n",
    "    transform = transforms.Compose([transforms.Resize(image_size), # resize to 128x128\n",
    "                                    transforms.ToTensor()])\n",
    "    \n",
    "    image_path = './' + data_dir\n",
    "    \n",
    "    # define datasets using ImageFolder\n",
    "    image_dataset = datasets.ImageFolder(image_path, transform)\n",
    "    \n",
    "    # create and return DataLoaders\n",
    "    data_loader = DataLoader(dataset=image_dataset, batch_size=batch_size, shuffle=True)\n",
    "    \n",
    "    \n",
    "    return data_loader\n"
   ]
  },
  {
   "cell_type": "markdown",
   "metadata": {
    "colab_type": "text",
    "id": "8R3ecwvgXkka"
   },
   "source": [
    "## Create a DataLoader\n",
    "\n",
    "#### Exercise: Create a DataLoader `celeba_train_loader` with appropriate hyperparameters.\n",
    "\n",
    "Call the above function and create a dataloader to view images. \n",
    "* You can decide on any reasonable `batch_size` parameter\n",
    "* Your `image_size` **must be** `32`. Resizing the data to a smaller size will make for faster training, while still creating convincing images of faces!"
   ]
  },
  {
   "cell_type": "code",
   "execution_count": 0,
   "metadata": {
    "colab": {},
    "colab_type": "code",
    "id": "9J69X0eDXkkb"
   },
   "outputs": [],
   "source": [
    "# Define function hyperparameters\n",
    "batch_size = 128\n",
    "img_size = 32\n",
    "\n",
    "\"\"\"\n",
    "DON'T MODIFY ANYTHING IN THIS CELL THAT IS BELOW THIS LINE\n",
    "\"\"\"\n",
    "# Call your function and get a dataloader\n",
    "celeba_train_loader = get_dataloader(batch_size, img_size)\n"
   ]
  },
  {
   "cell_type": "markdown",
   "metadata": {
    "colab_type": "text",
    "id": "5qE3YISzXkkh"
   },
   "source": [
    "Next, you can view some images! You should seen square images of somewhat-centered faces.\n",
    "\n",
    "Note: You'll need to convert the Tensor images into a NumPy type and transpose the dimensions to correctly display an image, suggested `imshow` code is below, but it may not be perfect."
   ]
  },
  {
   "cell_type": "code",
   "execution_count": 5,
   "metadata": {
    "colab": {
     "base_uri": "https://localhost:8080/",
     "height": 271
    },
    "colab_type": "code",
    "id": "IMbS7TOBXkkj",
    "outputId": "5bc8de8f-6abb-42d2-bda0-9f53ffe416ca"
   },
   "outputs": [
    {
     "data": {
      "image/png": "[encoded data removed]",
      "text/plain": [
       "<Figure size 1440x288 with 20 Axes>"
      ]
     },
     "metadata": {
      "tags": []
     },
     "output_type": "display_data"
    }
   ],
   "source": [
    "# helper display function\n",
    "def imshow(img):\n",
    "    npimg = img.numpy()\n",
    "    plt.imshow(np.transpose(npimg, (1, 2, 0)))\n",
    "\n",
    "\"\"\"\n",
    "DON'T MODIFY ANYTHING IN THIS CELL THAT IS BELOW THIS LINE\n",
    "\"\"\"\n",
    "# obtain one batch of training images\n",
    "dataiter = iter(celeba_train_loader)\n",
    "images, _ = dataiter.next() # _ for no labels\n",
    "\n",
    "# plot the images in the batch, along with the corresponding labels\n",
    "fig = plt.figure(figsize=(20, 4))\n",
    "plot_size=20\n",
    "for idx in np.arange(plot_size):\n",
    "    ax = fig.add_subplot(2, plot_size/2, idx+1, xticks=[], yticks=[])\n",
    "    imshow(images[idx])"
   ]
  },
  {
   "cell_type": "markdown",
   "metadata": {
    "colab_type": "text",
    "id": "T-lZNz3NXkku"
   },
   "source": [
    "#### Exercise: Pre-process your image data and scale it to a pixel range of -1 to 1\n",
    "\n",
    "You need to do a bit of pre-processing; you know that the output of a `tanh` activated generator will contain pixel values in a range from -1 to 1, and so, we need to rescale our training images to a range of -1 to 1. (Right now, they are in a range from 0-1.)"
   ]
  },
  {
   "cell_type": "code",
   "execution_count": 0,
   "metadata": {
    "colab": {},
    "colab_type": "code",
    "id": "C7bZHH_bXkkx"
   },
   "outputs": [],
   "source": [
    "# TODO: Complete the scale function\n",
    "def scale(x, feature_range=(-1, 1)):\n",
    "    ''' Scale takes in an image x and returns that image, scaled\n",
    "       with a feature_range of pixel values from -1 to 1. \n",
    "       This function assumes that the input x is already scaled from 0-1.'''\n",
    "    # assume x is scaled to (0, 1)\n",
    "    # scale to feature_range and return scaled x\n",
    "    \n",
    "    min, max = feature_range\n",
    "    x = x * (max - min) + min\n",
    "    \n",
    "    return x\n"
   ]
  },
  {
   "cell_type": "code",
   "execution_count": 7,
   "metadata": {
    "colab": {
     "base_uri": "https://localhost:8080/",
     "height": 53
    },
    "colab_type": "code",
    "id": "Ul585FOQXkk4",
    "outputId": "6ca39992-6a93-483c-b2ac-e9d86772f022"
   },
   "outputs": [
    {
     "name": "stdout",
     "output_type": "stream",
     "text": [
      "Min:  tensor(-0.7647)\n",
      "Max:  tensor(0.9608)\n"
     ]
    }
   ],
   "source": [
    "\"\"\"\n",
    "DON'T MODIFY ANYTHING IN THIS CELL THAT IS BELOW THIS LINE\n",
    "\"\"\"\n",
    "# check scaled range\n",
    "# should be close to -1 to 1\n",
    "img = images[0]\n",
    "scaled_img = scale(img)\n",
    "\n",
    "print('Min: ', scaled_img.min())\n",
    "print('Max: ', scaled_img.max())"
   ]
  },
  {
   "cell_type": "markdown",
   "metadata": {
    "colab_type": "text",
    "id": "4UMRr6MqXklG"
   },
   "source": [
    "---\n",
    "# Define the Model\n",
    "\n",
    "A GAN is comprised of two adversarial networks, a discriminator and a generator.\n",
    "\n",
    "## Discriminator\n",
    "\n",
    "Your first task will be to define the discriminator. This is a convolutional classifier like you've built before, only without any maxpooling layers. To deal with this complex data, it's suggested you use a deep network with **normalization**. You are also allowed to create any helper functions that may be useful.\n",
    "\n",
    "#### Exercise: Complete the Discriminator class\n",
    "* The inputs to the discriminator are 32x32x3 tensor images\n",
    "* The output should be a single value that will indicate whether a given image is real or fake\n"
   ]
  },
  {
   "cell_type": "code",
   "execution_count": 0,
   "metadata": {
    "colab": {},
    "colab_type": "code",
    "id": "g5-jOlLhXklH"
   },
   "outputs": [],
   "source": [
    "import torch.nn as nn\n",
    "import torch.nn.functional as F"
   ]
  },
  {
   "cell_type": "code",
   "execution_count": 9,
   "metadata": {
    "colab": {
     "base_uri": "https://localhost:8080/",
     "height": 35
    },
    "colab_type": "code",
    "id": "5bT-kw77TyTG",
    "outputId": "826786ac-0c7a-4563-9a76-476eac4d63bf"
   },
   "outputs": [
    {
     "name": "stdout",
     "output_type": "stream",
     "text": [
      "Tests Passed\n"
     ]
    }
   ],
   "source": [
    "class Discriminator(nn.Module):\n",
    "\n",
    "    def __init__(self, conv_dim):\n",
    "        \"\"\"\n",
    "        Initialize the Discriminator Module\n",
    "        :param conv_dim: The depth of the first convolutional layer\n",
    "        \"\"\"\n",
    "        super(Discriminator, self).__init__()\n",
    "\n",
    "        # complete init function\n",
    "        self.conv_dim = conv_dim\n",
    "        \n",
    "        params = [conv_dim, 'R', conv_dim*2, 'B', 'R', conv_dim*4, 'B', 'R']\n",
    "                \n",
    "        self.features = self._make_layers(params)\n",
    "        \n",
    "        # final, fully-connected layer\n",
    "        self.fc = nn.Linear(conv_dim*4*4*4, 1)\n",
    "    \n",
    "    def _make_layers(self, params):\n",
    "        layers = []\n",
    "        in_channels = 3\n",
    "        for x in params:\n",
    "            if x == 'B':\n",
    "                layers += [nn.BatchNorm2d(in_channels)]\n",
    "            elif x == 'R':\n",
    "                layers += [nn.LeakyReLU(negative_slope=0.2, inplace=True)]\n",
    "            else:\n",
    "                layers += [nn.Conv2d(in_channels, x, kernel_size=4, stride=2, padding=1, bias=False)]\n",
    "                in_channels = x\n",
    "        return nn.Sequential(*layers)\n",
    "\n",
    "    def forward(self, x):\n",
    "        \"\"\"\n",
    "        Forward propagation of the neural network\n",
    "        :param x: The input to the neural network     \n",
    "        :return: Discriminator logits; the output of the neural network\n",
    "        \"\"\"\n",
    "        # define feedforward behavior\n",
    "        \n",
    "        # all hidden layers + leaky relu activation\n",
    "        out = self.features(x)\n",
    "        \n",
    "        # flatten\n",
    "        out = out.view(-1, self.conv_dim*4*4*4)\n",
    "        \n",
    "        # final output layer\n",
    "        out = self.fc(out) \n",
    "        \n",
    "        return out\n",
    "\n",
    "\n",
    "\"\"\"\n",
    "DON'T MODIFY ANYTHING IN THIS CELL THAT IS BELOW THIS LINE\n",
    "\"\"\"\n",
    "tests.test_discriminator(Discriminator)"
   ]
  },
  {
   "cell_type": "markdown",
   "metadata": {
    "colab_type": "text",
    "id": "qEjLvsfJXklS"
   },
   "source": [
    "## Generator\n",
    "\n",
    "The generator should upsample an input and generate a *new* image of the same size as our training data `32x32x3`. This should be mostly transpose convolutional layers with normalization applied to the outputs.\n",
    "\n",
    "#### Exercise: Complete the Generator class\n",
    "* The inputs to the generator are vectors of some length `z_size`\n",
    "* The output should be a image of shape `32x32x3`"
   ]
  },
  {
   "cell_type": "code",
   "execution_count": 10,
   "metadata": {
    "colab": {
     "base_uri": "https://localhost:8080/",
     "height": 35
    },
    "colab_type": "code",
    "id": "2ifpGxDNYfUv",
    "outputId": "135a4eba-5184-4842-fa79-ae82c4ef2d51"
   },
   "outputs": [
    {
     "name": "stdout",
     "output_type": "stream",
     "text": [
      "Tests Passed\n"
     ]
    }
   ],
   "source": [
    "class Generator(nn.Module):\n",
    "    \n",
    "    def __init__(self, z_size, conv_dim):\n",
    "        \"\"\"\n",
    "        Initialize the Generator Module\n",
    "        :param z_size: The length of the input latent vector, z\n",
    "        :param conv_dim: The depth of the inputs to the *last* transpose convolutional layer\n",
    "        \"\"\"\n",
    "        super(Generator, self).__init__()\n",
    "\n",
    "        # complete init function\n",
    "        self.conv_dim = conv_dim\n",
    "        \n",
    "        # first, fully-connected layer\n",
    "        self.fc = nn.Linear(z_size, conv_dim*4*4*4)\n",
    "\n",
    "        # transpose conv layers\n",
    "        params = [conv_dim*2, 'B', 'R', conv_dim, 'B', 'R', 3]\n",
    "                \n",
    "        self.features = self._make_layers(params)\n",
    "        \n",
    "        \n",
    "    def _make_layers(self, params):\n",
    "        layers = []\n",
    "        in_channels = self.conv_dim * 4\n",
    "        for x in params:\n",
    "            if x == 'B':\n",
    "                layers += [nn.BatchNorm2d(in_channels)]\n",
    "            elif x == 'R':\n",
    "                layers += [nn.ReLU(inplace=True)]\n",
    "            else:\n",
    "                layers += [nn.ConvTranspose2d(in_channels, x, kernel_size=4, stride=2, padding=1, bias=False)]\n",
    "                in_channels = x\n",
    "        return nn.Sequential(*layers)\n",
    "\n",
    "    def forward(self, x):\n",
    "        \"\"\"\n",
    "        Forward propagation of the neural network\n",
    "        :param x: The input to the neural network     \n",
    "        :return: A 32x32x3 Tensor image as output\n",
    "        \"\"\"\n",
    "        # define feedforward behavior\n",
    "        # fully-connected, reshape \n",
    "        out = self.fc(x)\n",
    "        out = out.view(-1, self.conv_dim*4, 4, 4) # (batch_size, depth, 4, 4)\n",
    "        \n",
    "        # hidden transpose conv layers + relu\n",
    "        out = self.features(out)\n",
    "        \n",
    "        # tanh activation\n",
    "        out = torch.tanh(out)\n",
    "        \n",
    "        return out\n",
    "\n",
    "\"\"\"\n",
    "DON'T MODIFY ANYTHING IN THIS CELL THAT IS BELOW THIS LINE\n",
    "\"\"\"\n",
    "tests.test_generator(Generator)"
   ]
  },
  {
   "cell_type": "markdown",
   "metadata": {
    "colab_type": "text",
    "id": "HHFzWfkEXklb"
   },
   "source": [
    "## Initialize the weights of your networks\n",
    "\n",
    "To help your models converge, you should initialize the weights of the convolutional and linear layers in your model. From reading the [original DCGAN paper](https://arxiv.org/pdf/1511.06434.pdf), they say:\n",
    "> All weights were initialized from a zero-centered Normal distribution with standard deviation 0.02.\n",
    "\n",
    "So, your next task will be to define a weight initialization function that does just this!\n",
    "\n",
    "You can refer back to the lesson on weight initialization or even consult existing model code, such as that from [the `networks.py` file in CycleGAN Github repository](https://github.com/junyanz/pytorch-CycleGAN-and-pix2pix/blob/master/models/networks.py) to help you complete this function.\n",
    "\n",
    "#### Exercise: Complete the weight initialization function\n",
    "\n",
    "* This should initialize only **convolutional** and **linear** layers\n",
    "* Initialize the weights to a normal distribution, centered around 0, with a standard deviation of 0.02.\n",
    "* The bias terms, if they exist, may be left alone or set to 0."
   ]
  },
  {
   "cell_type": "code",
   "execution_count": 0,
   "metadata": {
    "colab": {},
    "colab_type": "code",
    "id": "mjYdrhHhXkld"
   },
   "outputs": [],
   "source": [
    "def weights_init_normal(m):\n",
    "    \"\"\"\n",
    "    Applies initial weights to certain layers in a model .\n",
    "    The weights are taken from a normal distribution \n",
    "    with mean = 0, std dev = 0.02.\n",
    "    :param m: A module or layer in a network    \n",
    "    \"\"\"\n",
    "    # classname will be something like:\n",
    "    # `Conv`, `BatchNorm2d`, `Linear`, etc.\n",
    "    classname = m.__class__.__name__\n",
    "#     print(classname, classname.find('Conv'))\n",
    "    \n",
    "    # TODO: Apply initial weights to convolutional and linear layers\n",
    "    if classname.find('Linear') != -1 :\n",
    "        # apply a uniform distribution to the weights and a bias=0\n",
    "        m.weight.data.normal_(0.0, 0.2)\n",
    "        m.bias.data.fill_(0)\n",
    "    \n",
    "    if classname.find('Conv') != -1 :\n",
    "        # apply a uniform distribution to the weights and a bias=0\n",
    "        m.weight.data.normal_(0.0, 0.2)"
   ]
  },
  {
   "cell_type": "markdown",
   "metadata": {
    "colab_type": "text",
    "collapsed": true,
    "id": "xsAoCU2-Xkli"
   },
   "source": [
    "## Build complete network\n",
    "\n",
    "Define your models' hyperparameters and instantiate the discriminator and generator from the classes defined above. Make sure you've passed in the correct input arguments."
   ]
  },
  {
   "cell_type": "code",
   "execution_count": 0,
   "metadata": {
    "colab": {},
    "colab_type": "code",
    "id": "575_TxS_Xklj"
   },
   "outputs": [],
   "source": [
    "\"\"\"\n",
    "DON'T MODIFY ANYTHING IN THIS CELL THAT IS BELOW THIS LINE\n",
    "\"\"\"\n",
    "def build_network(d_conv_dim, g_conv_dim, z_size):\n",
    "    # define discriminator and generator\n",
    "    D = Discriminator(d_conv_dim)\n",
    "    G = Generator(z_size=z_size, conv_dim=g_conv_dim)\n",
    "\n",
    "    # initialize model weights\n",
    "    D.apply(weights_init_normal)\n",
    "    G.apply(weights_init_normal)\n",
    "\n",
    "    print(D)\n",
    "    print()\n",
    "    print(G)\n",
    "    \n",
    "    return D, G\n"
   ]
  },
  {
   "cell_type": "markdown",
   "metadata": {
    "colab_type": "text",
    "id": "ZtaaCt8vXklq"
   },
   "source": [
    "#### Exercise: Define model hyperparameters"
   ]
  },
  {
   "cell_type": "code",
   "execution_count": 13,
   "metadata": {
    "colab": {
     "base_uri": "https://localhost:8080/",
     "height": 490
    },
    "colab_type": "code",
    "id": "n96c0le5kstK",
    "outputId": "b8fc38de-cfa9-4041-d58c-d4518555d466"
   },
   "outputs": [
    {
     "name": "stdout",
     "output_type": "stream",
     "text": [
      "Discriminator(\n",
      "  (features): Sequential(\n",
      "    (0): Conv2d(3, 64, kernel_size=(4, 4), stride=(2, 2), padding=(1, 1), bias=False)\n",
      "    (1): LeakyReLU(negative_slope=0.2, inplace)\n",
      "    (2): Conv2d(64, 128, kernel_size=(4, 4), stride=(2, 2), padding=(1, 1), bias=False)\n",
      "    (3): BatchNorm2d(128, eps=1e-05, momentum=0.1, affine=True, track_running_stats=True)\n",
      "    (4): LeakyReLU(negative_slope=0.2, inplace)\n",
      "    (5): Conv2d(128, 256, kernel_size=(4, 4), stride=(2, 2), padding=(1, 1), bias=False)\n",
      "    (6): BatchNorm2d(256, eps=1e-05, momentum=0.1, affine=True, track_running_stats=True)\n",
      "    (7): LeakyReLU(negative_slope=0.2, inplace)\n",
      "  )\n",
      "  (fc): Linear(in_features=4096, out_features=1, bias=True)\n",
      ")\n",
      "\n",
      "Generator(\n",
      "  (fc): Linear(in_features=100, out_features=4096, bias=True)\n",
      "  (features): Sequential(\n",
      "    (0): ConvTranspose2d(256, 128, kernel_size=(4, 4), stride=(2, 2), padding=(1, 1), bias=False)\n",
      "    (1): BatchNorm2d(128, eps=1e-05, momentum=0.1, affine=True, track_running_stats=True)\n",
      "    (2): ReLU(inplace)\n",
      "    (3): ConvTranspose2d(128, 64, kernel_size=(4, 4), stride=(2, 2), padding=(1, 1), bias=False)\n",
      "    (4): BatchNorm2d(64, eps=1e-05, momentum=0.1, affine=True, track_running_stats=True)\n",
      "    (5): ReLU(inplace)\n",
      "    (6): ConvTranspose2d(64, 3, kernel_size=(4, 4), stride=(2, 2), padding=(1, 1), bias=False)\n",
      "  )\n",
      ")\n"
     ]
    }
   ],
   "source": [
    "# Define model hyperparams\n",
    "d_conv_dim = 64\n",
    "g_conv_dim = d_conv_dim\n",
    "z_size = 100\n",
    "\n",
    "\"\"\"\n",
    "DON'T MODIFY ANYTHING IN THIS CELL THAT IS BELOW THIS LINE\n",
    "\"\"\"\n",
    "D, G = build_network(d_conv_dim, g_conv_dim, z_size)"
   ]
  },
  {
   "cell_type": "markdown",
   "metadata": {
    "colab_type": "text",
    "id": "tYOUx1QKXklv"
   },
   "source": [
    "### Training on GPU\n",
    "\n",
    "Check if you can train on GPU. Here, we'll set this as a boolean variable `train_on_gpu`. Later, you'll be responsible for making sure that \n",
    ">* Models,\n",
    "* Model inputs, and\n",
    "* Loss function arguments\n",
    "\n",
    "Are moved to GPU, where appropriate."
   ]
  },
  {
   "cell_type": "code",
   "execution_count": 14,
   "metadata": {
    "colab": {
     "base_uri": "https://localhost:8080/",
     "height": 35
    },
    "colab_type": "code",
    "id": "DE4W_dsNXkl2",
    "outputId": "32577550-46d6-40d4-d38d-861a9944eb5c"
   },
   "outputs": [
    {
     "name": "stdout",
     "output_type": "stream",
     "text": [
      "Training on GPU!\n"
     ]
    }
   ],
   "source": [
    "\"\"\"\n",
    "DON'T MODIFY ANYTHING IN THIS CELL\n",
    "\"\"\"\n",
    "import torch\n",
    "\n",
    "# Check for a GPU\n",
    "train_on_gpu = torch.cuda.is_available()\n",
    "if not train_on_gpu:\n",
    "    print('No GPU found. Please use a GPU to train your neural network.')\n",
    "else:\n",
    "    print('Training on GPU!')"
   ]
  },
  {
   "cell_type": "markdown",
   "metadata": {
    "colab_type": "text",
    "id": "Wu8z0nbtXkl9"
   },
   "source": [
    "---\n",
    "## Discriminator and Generator Losses\n",
    "\n",
    "Now we need to calculate the losses for both types of adversarial networks.\n",
    "\n",
    "### Discriminator Losses\n",
    "\n",
    "> * For the discriminator, the total loss is the sum of the losses for real and fake images, `d_loss = d_real_loss + d_fake_loss`. \n",
    "* Remember that we want the discriminator to output 1 for real images and 0 for fake images, so we need to set up the losses to reflect that.\n",
    "\n",
    "\n",
    "### Generator Loss\n",
    "\n",
    "The generator loss will look similar only with flipped labels. The generator's goal is to get the discriminator to *think* its generated images are *real*.\n",
    "\n",
    "#### Exercise: Complete real and fake loss functions\n",
    "\n",
    "**You may choose to use either cross entropy or a least squares error loss to complete the following `real_loss` and `fake_loss` functions.**"
   ]
  },
  {
   "cell_type": "code",
   "execution_count": 0,
   "metadata": {
    "colab": {},
    "colab_type": "code",
    "id": "fS_2Tff6Xkl-"
   },
   "outputs": [],
   "source": [
    "def real_loss(D_out):\n",
    "    '''Calculates how close discriminator outputs are to being real.\n",
    "       param, D_out: discriminator logits\n",
    "       return: real loss'''\n",
    "    batch_size = D_out.size(0)\n",
    "    labels = torch.ones(batch_size)\n",
    "    if train_on_gpu:\n",
    "        labels = labels.cuda()\n",
    "    criterion = nn.BCEWithLogitsLoss()\n",
    "    loss = criterion(D_out.squeeze(), labels)\n",
    "    return loss\n",
    "\n",
    "def fake_loss(D_out):\n",
    "    '''Calculates how close discriminator outputs are to being fake.\n",
    "       param, D_out: discriminator logits\n",
    "       return: fake loss'''\n",
    "    batch_size = D_out.size(0)\n",
    "    labels = torch.zeros(batch_size)\n",
    "    if train_on_gpu:\n",
    "        labels = labels.cuda()\n",
    "    criterion = nn.BCEWithLogitsLoss()\n",
    "    loss = criterion(D_out.squeeze(), labels) \n",
    "    return loss"
   ]
  },
  {
   "cell_type": "markdown",
   "metadata": {
    "colab_type": "text",
    "id": "tjL49duXXkmH"
   },
   "source": [
    "## Optimizers\n",
    "\n",
    "#### Exercise: Define optimizers for your Discriminator (D) and Generator (G)\n",
    "\n",
    "Define optimizers for your models with appropriate hyperparameters."
   ]
  },
  {
   "cell_type": "code",
   "execution_count": 0,
   "metadata": {
    "colab": {},
    "colab_type": "code",
    "id": "PHzu6JQ-XkmJ"
   },
   "outputs": [],
   "source": [
    "import torch.optim as optim\n",
    "\n",
    "# params\n",
    "lr = 0.0005\n",
    "beta1=0.5\n",
    "beta2=0.999 \n",
    "\n",
    "# Create optimizers for the discriminator D and generator G\n",
    "d_optimizer = optim.Adam(D.parameters(), lr, [beta1, beta2])\n",
    "g_optimizer = optim.Adam(G.parameters(), lr, [beta1, beta2])"
   ]
  },
  {
   "cell_type": "markdown",
   "metadata": {
    "colab_type": "text",
    "id": "NZUPtr5TXkmP"
   },
   "source": [
    "---\n",
    "## Training\n",
    "\n",
    "Training will involve alternating between training the discriminator and the generator. You'll use your functions `real_loss` and `fake_loss` to help you calculate the discriminator losses.\n",
    "\n",
    "* You should train the discriminator by alternating on real and fake images\n",
    "* Then the generator, which tries to trick the discriminator and should have an opposing loss function\n",
    "\n",
    "\n",
    "#### Saving Samples\n",
    "\n",
    "You've been given some code to print out some loss statistics and save some generated \"fake\" samples."
   ]
  },
  {
   "cell_type": "markdown",
   "metadata": {
    "colab_type": "text",
    "id": "00ETM9ksXkmR"
   },
   "source": [
    "#### Exercise: Complete the training function\n",
    "\n",
    "Keep in mind that, if you've moved your models to GPU, you'll also have to move any model inputs to GPU."
   ]
  },
  {
   "cell_type": "code",
   "execution_count": 0,
   "metadata": {
    "colab": {},
    "colab_type": "code",
    "id": "cr4hB8iaXkmX"
   },
   "outputs": [],
   "source": [
    "def train(D, G, n_epochs, print_every=50):\n",
    "    '''Trains adversarial networks for some number of epochs\n",
    "       param, D: the discriminator network\n",
    "       param, G: the generator network\n",
    "       param, n_epochs: number of epochs to train for\n",
    "       param, print_every: when to print and record the models' losses\n",
    "       return: D and G losses'''\n",
    "    \n",
    "    # move models to GPU\n",
    "    if train_on_gpu:\n",
    "        D.cuda()\n",
    "        G.cuda()\n",
    "\n",
    "    # keep track of loss and generated, \"fake\" samples\n",
    "    samples = []\n",
    "    losses = []\n",
    "\n",
    "    # Get some fixed data for sampling. These are images that are held\n",
    "    # constant throughout training, and allow us to inspect the model's performance\n",
    "    sample_size=16\n",
    "    fixed_z = np.random.uniform(-1, 1, size=(sample_size, z_size))\n",
    "    fixed_z = torch.from_numpy(fixed_z).float()\n",
    "    # move z to GPU if available\n",
    "    if train_on_gpu:\n",
    "        fixed_z = fixed_z.cuda()\n",
    "\n",
    "    # epoch training loop\n",
    "    for epoch in range(n_epochs):\n",
    "\n",
    "        # batch training loop\n",
    "        for batch_i, (real_images, _) in enumerate(celeba_train_loader):\n",
    "\n",
    "            batch_size = real_images.size(0)\n",
    "            real_images = scale(real_images)\n",
    "\n",
    "            # ===============================================\n",
    "            #         YOUR CODE HERE: TRAIN THE NETWORKS\n",
    "            # ===============================================\n",
    "            \n",
    "            # 1. Train the discriminator on real and fake images\n",
    "            \n",
    "            # Train with real images, calculate real loss\n",
    "            d_optimizer.zero_grad()\n",
    "            if train_on_gpu:\n",
    "                real_images = real_images.cuda()\n",
    "        \n",
    "            D_real = D(real_images)\n",
    "            d_real_loss = real_loss(D_real)\n",
    "            \n",
    "            # Generate fake images\n",
    "            z = np.random.uniform(-1, 1, size=(batch_size, z_size))\n",
    "            z = torch.from_numpy(z).float()\n",
    "            # move x to GPU, if available\n",
    "            if train_on_gpu:\n",
    "                z = z.cuda()\n",
    "            fake_images = G(z)\n",
    "            \n",
    "            # Compute the discriminator losses on fake images            \n",
    "            D_fake = D(fake_images)\n",
    "            d_fake_loss = fake_loss(D_fake)\n",
    "\n",
    "            # add up loss and perform backprop\n",
    "            d_loss = d_real_loss + d_fake_loss\n",
    "            d_loss.backward()\n",
    "            d_optimizer.step()\n",
    "\n",
    "            # 2. Train the generator with an adversarial loss\n",
    "            \n",
    "            g_optimizer.zero_grad()\n",
    "        \n",
    "            # 1. Train with fake images and flipped labels\n",
    "\n",
    "            # Generate fake images\n",
    "            z = np.random.uniform(-1, 1, size=(batch_size, z_size))\n",
    "            z = torch.from_numpy(z).float()\n",
    "            if train_on_gpu:\n",
    "                z = z.cuda()\n",
    "            fake_images = G(z)\n",
    "\n",
    "            # Compute the discriminator losses on fake images \n",
    "            # using flipped labels!\n",
    "            D_fake = D(fake_images)\n",
    "            g_loss = real_loss(D_fake) # use real loss to flip labels\n",
    "\n",
    "            # perform backprop\n",
    "            g_loss.backward()\n",
    "            g_optimizer.step()\n",
    "        \n",
    "            \n",
    "            \n",
    "            # ===============================================\n",
    "            #              END OF YOUR CODE\n",
    "            # ===============================================\n",
    "\n",
    "            # Print some loss stats\n",
    "            if batch_i % print_every == 0:\n",
    "                # append discriminator loss and generator loss\n",
    "                losses.append((d_loss.item(), g_loss.item()))\n",
    "                # print discriminator and generator loss\n",
    "                print('Epoch [{:5d}/{:5d}] | d_loss: {:6.4f} | g_loss: {:6.4f}'.format(\n",
    "                        epoch+1, n_epochs, d_loss.item(), g_loss.item()))\n",
    "\n",
    "\n",
    "        ## AFTER EACH EPOCH##    \n",
    "        # this code assumes your generator is named G, feel free to change the name\n",
    "        # generate and save sample, fake images\n",
    "        G.eval() # for generating samples\n",
    "        samples_z = G(fixed_z)\n",
    "        samples.append(samples_z)\n",
    "        G.train() # back to training mode\n",
    "\n",
    "    # Save training generator samples\n",
    "    with open('train_samples.pkl', 'wb') as f:\n",
    "        pkl.dump(samples, f)\n",
    "    \n",
    "    # finally return losses\n",
    "    return losses"
   ]
  },
  {
   "cell_type": "markdown",
   "metadata": {
    "colab_type": "text",
    "id": "4Z3IKhkXXkmi"
   },
   "source": [
    "Set your number of training epochs and train your GAN!"
   ]
  },
  {
   "cell_type": "code",
   "execution_count": 18,
   "metadata": {
    "colab": {
     "base_uri": "https://localhost:8080/",
     "height": 6842
    },
    "colab_type": "code",
    "id": "nBdaqwTqXkmj",
    "outputId": "df3f92ed-e321-4184-ef43-74f19abf3505"
   },
   "outputs": [
    {
     "name": "stdout",
     "output_type": "stream",
     "text": [
      "Epoch [    1/   25] | d_loss: 4.3948 | g_loss: 1.0938\n",
      "Epoch [    1/   25] | d_loss: 0.3757 | g_loss: 6.2765\n",
      "Epoch [    1/   25] | d_loss: 0.2176 | g_loss: 6.6769\n",
      "Epoch [    1/   25] | d_loss: 0.0228 | g_loss: 7.5848\n",
      "Epoch [    1/   25] | d_loss: 0.0528 | g_loss: 8.0372\n",
      "Epoch [    1/   25] | d_loss: 0.0744 | g_loss: 8.6787\n",
      "Epoch [    1/   25] | d_loss: 0.1270 | g_loss: 5.6983\n",
      "Epoch [    1/   25] | d_loss: 0.0436 | g_loss: 4.5637\n",
      "Epoch [    1/   25] | d_loss: 0.1547 | g_loss: 5.3334\n",
      "Epoch [    1/   25] | d_loss: 0.1818 | g_loss: 4.7359\n",
      "Epoch [    1/   25] | d_loss: 0.5452 | g_loss: 4.8635\n",
      "Epoch [    1/   25] | d_loss: 0.2603 | g_loss: 4.2403\n",
      "Epoch [    1/   25] | d_loss: 0.3194 | g_loss: 3.7542\n",
      "Epoch [    1/   25] | d_loss: 0.3736 | g_loss: 3.2441\n",
      "Epoch [    1/   25] | d_loss: 0.5977 | g_loss: 4.3943\n",
      "Epoch [    2/   25] | d_loss: 0.5750 | g_loss: 3.1950\n",
      "Epoch [    2/   25] | d_loss: 1.2047 | g_loss: 6.3636\n",
      "Epoch [    2/   25] | d_loss: 0.3510 | g_loss: 3.0679\n",
      "Epoch [    2/   25] | d_loss: 0.3849 | g_loss: 2.3330\n",
      "Epoch [    2/   25] | d_loss: 0.3005 | g_loss: 4.1967\n",
      "Epoch [    2/   25] | d_loss: 0.3199 | g_loss: 4.8111\n",
      "Epoch [    2/   25] | d_loss: 0.3471 | g_loss: 3.3073\n",
      "Epoch [    2/   25] | d_loss: 0.2161 | g_loss: 5.4233\n",
      "Epoch [    2/   25] | d_loss: 0.5374 | g_loss: 4.0196\n",
      "Epoch [    2/   25] | d_loss: 1.1511 | g_loss: 5.7880\n",
      "Epoch [    2/   25] | d_loss: 1.1017 | g_loss: 6.9688\n",
      "Epoch [    2/   25] | d_loss: 0.5136 | g_loss: 4.3805\n",
      "Epoch [    2/   25] | d_loss: 0.9147 | g_loss: 1.2429\n",
      "Epoch [    2/   25] | d_loss: 0.7381 | g_loss: 4.2955\n",
      "Epoch [    2/   25] | d_loss: 1.5383 | g_loss: 0.8057\n",
      "Epoch [    3/   25] | d_loss: 0.7833 | g_loss: 0.9521\n",
      "Epoch [    3/   25] | d_loss: 1.3990 | g_loss: 4.0351\n",
      "Epoch [    3/   25] | d_loss: 1.3031 | g_loss: 1.1412\n",
      "Epoch [    3/   25] | d_loss: 1.2770 | g_loss: 3.9436\n",
      "Epoch [    3/   25] | d_loss: 0.6740 | g_loss: 2.2044\n",
      "Epoch [    3/   25] | d_loss: 0.7991 | g_loss: 2.0054\n",
      "Epoch [    3/   25] | d_loss: 0.8186 | g_loss: 2.0400\n",
      "Epoch [    3/   25] | d_loss: 0.9906 | g_loss: 0.8688\n",
      "Epoch [    3/   25] | d_loss: 1.6324 | g_loss: 0.8286\n",
      "Epoch [    3/   25] | d_loss: 1.0601 | g_loss: 0.7145\n",
      "Epoch [    3/   25] | d_loss: 0.9430 | g_loss: 1.2555\n",
      "Epoch [    3/   25] | d_loss: 1.2243 | g_loss: 1.5146\n",
      "Epoch [    3/   25] | d_loss: 0.8487 | g_loss: 1.7084\n",
      "Epoch [    3/   25] | d_loss: 0.9488 | g_loss: 1.8130\n",
      "Epoch [    3/   25] | d_loss: 0.8534 | g_loss: 1.4656\n",
      "Epoch [    4/   25] | d_loss: 0.9454 | g_loss: 1.3084\n",
      "Epoch [    4/   25] | d_loss: 0.8866 | g_loss: 2.5401\n",
      "Epoch [    4/   25] | d_loss: 0.8056 | g_loss: 1.5259\n",
      "Epoch [    4/   25] | d_loss: 1.0874 | g_loss: 1.2648\n",
      "Epoch [    4/   25] | d_loss: 1.1126 | g_loss: 0.8612\n",
      "Epoch [    4/   25] | d_loss: 1.0341 | g_loss: 2.6133\n",
      "Epoch [    4/   25] | d_loss: 0.8365 | g_loss: 1.9721\n",
      "Epoch [    4/   25] | d_loss: 1.0793 | g_loss: 1.2188\n",
      "Epoch [    4/   25] | d_loss: 0.6759 | g_loss: 1.6729\n",
      "Epoch [    4/   25] | d_loss: 0.9829 | g_loss: 1.2206\n",
      "Epoch [    4/   25] | d_loss: 0.8442 | g_loss: 0.8206\n",
      "Epoch [    4/   25] | d_loss: 1.1310 | g_loss: 2.4199\n",
      "Epoch [    4/   25] | d_loss: 0.7985 | g_loss: 1.6446\n",
      "Epoch [    4/   25] | d_loss: 0.8933 | g_loss: 1.9176\n",
      "Epoch [    4/   25] | d_loss: 0.9742 | g_loss: 2.6173\n",
      "Epoch [    5/   25] | d_loss: 1.0315 | g_loss: 2.0317\n",
      "Epoch [    5/   25] | d_loss: 1.0286 | g_loss: 2.4238\n",
      "Epoch [    5/   25] | d_loss: 0.8900 | g_loss: 1.6627\n",
      "Epoch [    5/   25] | d_loss: 0.5370 | g_loss: 1.6157\n",
      "Epoch [    5/   25] | d_loss: 1.5431 | g_loss: 0.6236\n",
      "Epoch [    5/   25] | d_loss: 0.7178 | g_loss: 2.4072\n",
      "Epoch [    5/   25] | d_loss: 0.8948 | g_loss: 1.2322\n",
      "Epoch [    5/   25] | d_loss: 0.7176 | g_loss: 1.4325\n",
      "Epoch [    5/   25] | d_loss: 0.6326 | g_loss: 1.6348\n",
      "Epoch [    5/   25] | d_loss: 0.7943 | g_loss: 1.8049\n",
      "Epoch [    5/   25] | d_loss: 0.6582 | g_loss: 1.9586\n",
      "Epoch [    5/   25] | d_loss: 0.4689 | g_loss: 1.3372\n",
      "Epoch [    5/   25] | d_loss: 0.8890 | g_loss: 2.0883\n",
      "Epoch [    5/   25] | d_loss: 0.7905 | g_loss: 1.0664\n",
      "Epoch [    5/   25] | d_loss: 1.3490 | g_loss: 1.1585\n",
      "Epoch [    6/   25] | d_loss: 2.1400 | g_loss: 1.0079\n",
      "Epoch [    6/   25] | d_loss: 0.7467 | g_loss: 2.0735\n",
      "Epoch [    6/   25] | d_loss: 0.6822 | g_loss: 1.7561\n",
      "Epoch [    6/   25] | d_loss: 0.8408 | g_loss: 1.3192\n",
      "Epoch [    6/   25] | d_loss: 0.8508 | g_loss: 0.8981\n",
      "Epoch [    6/   25] | d_loss: 1.4412 | g_loss: 2.1825\n",
      "Epoch [    6/   25] | d_loss: 1.3741 | g_loss: 0.7359\n",
      "Epoch [    6/   25] | d_loss: 0.9676 | g_loss: 1.1582\n",
      "Epoch [    6/   25] | d_loss: 0.8536 | g_loss: 1.2684\n",
      "Epoch [    6/   25] | d_loss: 1.0162 | g_loss: 0.4383\n",
      "Epoch [    6/   25] | d_loss: 1.2977 | g_loss: 2.5903\n",
      "Epoch [    6/   25] | d_loss: 0.9779 | g_loss: 1.3764\n",
      "Epoch [    6/   25] | d_loss: 0.8504 | g_loss: 0.9742\n",
      "Epoch [    6/   25] | d_loss: 0.8726 | g_loss: 0.7726\n",
      "Epoch [    6/   25] | d_loss: 0.7262 | g_loss: 1.5991\n",
      "Epoch [    7/   25] | d_loss: 0.7722 | g_loss: 1.9779\n",
      "Epoch [    7/   25] | d_loss: 0.8212 | g_loss: 1.6478\n",
      "Epoch [    7/   25] | d_loss: 0.9305 | g_loss: 1.6866\n",
      "Epoch [    7/   25] | d_loss: 0.8471 | g_loss: 1.3650\n",
      "Epoch [    7/   25] | d_loss: 1.1586 | g_loss: 1.9533\n",
      "Epoch [    7/   25] | d_loss: 1.0319 | g_loss: 1.6995\n",
      "Epoch [    7/   25] | d_loss: 0.8809 | g_loss: 1.2402\n",
      "Epoch [    7/   25] | d_loss: 0.8726 | g_loss: 1.6048\n",
      "Epoch [    7/   25] | d_loss: 0.7489 | g_loss: 1.5714\n",
      "Epoch [    7/   25] | d_loss: 0.8681 | g_loss: 2.3642\n",
      "Epoch [    7/   25] | d_loss: 0.8771 | g_loss: 1.8767\n",
      "Epoch [    7/   25] | d_loss: 0.9154 | g_loss: 1.5714\n",
      "Epoch [    7/   25] | d_loss: 1.1523 | g_loss: 0.8166\n",
      "Epoch [    7/   25] | d_loss: 1.3985 | g_loss: 0.6666\n",
      "Epoch [    7/   25] | d_loss: 0.8605 | g_loss: 1.6679\n",
      "Epoch [    8/   25] | d_loss: 0.8335 | g_loss: 1.5523\n",
      "Epoch [    8/   25] | d_loss: 0.8788 | g_loss: 0.7090\n",
      "Epoch [    8/   25] | d_loss: 1.0392 | g_loss: 1.7076\n",
      "Epoch [    8/   25] | d_loss: 0.9044 | g_loss: 1.7130\n",
      "Epoch [    8/   25] | d_loss: 0.8767 | g_loss: 0.8933\n",
      "Epoch [    8/   25] | d_loss: 1.7843 | g_loss: 2.9207\n",
      "Epoch [    8/   25] | d_loss: 1.2617 | g_loss: 2.5235\n",
      "Epoch [    8/   25] | d_loss: 0.9226 | g_loss: 1.5031\n",
      "Epoch [    8/   25] | d_loss: 0.7404 | g_loss: 1.5155\n",
      "Epoch [    8/   25] | d_loss: 0.8266 | g_loss: 1.2906\n",
      "Epoch [    8/   25] | d_loss: 0.8393 | g_loss: 1.4202\n",
      "Epoch [    8/   25] | d_loss: 0.9691 | g_loss: 1.3010\n",
      "Epoch [    8/   25] | d_loss: 1.1312 | g_loss: 0.4322\n",
      "Epoch [    8/   25] | d_loss: 0.6764 | g_loss: 1.4949\n",
      "Epoch [    8/   25] | d_loss: 0.8809 | g_loss: 2.6783\n",
      "Epoch [    9/   25] | d_loss: 0.5749 | g_loss: 2.3321\n",
      "Epoch [    9/   25] | d_loss: 0.8403 | g_loss: 1.7621\n",
      "Epoch [    9/   25] | d_loss: 0.9289 | g_loss: 0.9314\n",
      "Epoch [    9/   25] | d_loss: 0.8694 | g_loss: 1.4788\n",
      "Epoch [    9/   25] | d_loss: 0.8811 | g_loss: 1.8735\n",
      "Epoch [    9/   25] | d_loss: 1.0743 | g_loss: 1.5571\n",
      "Epoch [    9/   25] | d_loss: 1.1369 | g_loss: 0.5014\n",
      "Epoch [    9/   25] | d_loss: 1.1756 | g_loss: 0.8815\n",
      "Epoch [    9/   25] | d_loss: 0.9049 | g_loss: 0.9897\n",
      "Epoch [    9/   25] | d_loss: 0.9642 | g_loss: 1.8885\n",
      "Epoch [    9/   25] | d_loss: 1.4322 | g_loss: 0.9927\n",
      "Epoch [    9/   25] | d_loss: 0.8525 | g_loss: 1.2174\n",
      "Epoch [    9/   25] | d_loss: 0.8078 | g_loss: 1.8942\n",
      "Epoch [    9/   25] | d_loss: 0.9462 | g_loss: 1.7199\n",
      "Epoch [    9/   25] | d_loss: 0.7613 | g_loss: 1.1893\n",
      "Epoch [   10/   25] | d_loss: 0.7268 | g_loss: 1.7714\n",
      "Epoch [   10/   25] | d_loss: 1.0636 | g_loss: 0.5547\n",
      "Epoch [   10/   25] | d_loss: 0.9164 | g_loss: 2.1286\n",
      "Epoch [   10/   25] | d_loss: 0.7614 | g_loss: 1.0828\n",
      "Epoch [   10/   25] | d_loss: 0.8375 | g_loss: 2.1198\n",
      "Epoch [   10/   25] | d_loss: 1.2750 | g_loss: 0.7829\n",
      "Epoch [   10/   25] | d_loss: 0.7918 | g_loss: 1.3039\n",
      "Epoch [   10/   25] | d_loss: 1.2656 | g_loss: 0.6864\n",
      "Epoch [   10/   25] | d_loss: 0.6304 | g_loss: 1.3286\n",
      "Epoch [   10/   25] | d_loss: 0.7881 | g_loss: 1.7504\n",
      "Epoch [   10/   25] | d_loss: 0.9515 | g_loss: 1.3043\n",
      "Epoch [   10/   25] | d_loss: 1.0218 | g_loss: 2.1578\n",
      "Epoch [   10/   25] | d_loss: 0.6548 | g_loss: 1.6915\n",
      "Epoch [   10/   25] | d_loss: 0.7434 | g_loss: 1.3323\n",
      "Epoch [   10/   25] | d_loss: 0.9599 | g_loss: 1.0154\n",
      "Epoch [   11/   25] | d_loss: 0.7722 | g_loss: 1.3422\n",
      "Epoch [   11/   25] | d_loss: 1.3123 | g_loss: 2.3307\n",
      "Epoch [   11/   25] | d_loss: 0.9300 | g_loss: 1.8953\n",
      "Epoch [   11/   25] | d_loss: 0.8630 | g_loss: 1.2398\n",
      "Epoch [   11/   25] | d_loss: 0.6192 | g_loss: 2.3134\n",
      "Epoch [   11/   25] | d_loss: 0.8545 | g_loss: 0.8548\n",
      "Epoch [   11/   25] | d_loss: 0.8711 | g_loss: 1.4529\n",
      "Epoch [   11/   25] | d_loss: 0.8464 | g_loss: 1.2728\n",
      "Epoch [   11/   25] | d_loss: 0.7613 | g_loss: 1.5513\n",
      "Epoch [   11/   25] | d_loss: 0.7052 | g_loss: 1.3167\n",
      "Epoch [   11/   25] | d_loss: 0.7733 | g_loss: 1.5100\n",
      "Epoch [   11/   25] | d_loss: 0.8899 | g_loss: 0.9947\n",
      "Epoch [   11/   25] | d_loss: 0.5442 | g_loss: 1.6336\n",
      "Epoch [   11/   25] | d_loss: 0.9586 | g_loss: 2.4145\n",
      "Epoch [   11/   25] | d_loss: 1.1336 | g_loss: 0.6578\n",
      "Epoch [   12/   25] | d_loss: 0.9355 | g_loss: 0.7149\n",
      "Epoch [   12/   25] | d_loss: 0.8923 | g_loss: 1.1874\n",
      "Epoch [   12/   25] | d_loss: 0.8950 | g_loss: 2.1541\n",
      "Epoch [   12/   25] | d_loss: 1.1271 | g_loss: 0.9840\n",
      "Epoch [   12/   25] | d_loss: 0.8076 | g_loss: 1.5826\n",
      "Epoch [   12/   25] | d_loss: 0.6126 | g_loss: 2.2701\n",
      "Epoch [   12/   25] | d_loss: 0.7863 | g_loss: 1.7596\n",
      "Epoch [   12/   25] | d_loss: 0.7932 | g_loss: 2.4981\n",
      "Epoch [   12/   25] | d_loss: 1.2488 | g_loss: 1.8993\n",
      "Epoch [   12/   25] | d_loss: 1.4144 | g_loss: 0.6886\n",
      "Epoch [   12/   25] | d_loss: 0.7207 | g_loss: 1.4457\n",
      "Epoch [   12/   25] | d_loss: 0.9327 | g_loss: 1.8998\n",
      "Epoch [   12/   25] | d_loss: 0.9909 | g_loss: 0.4871\n",
      "Epoch [   12/   25] | d_loss: 0.8990 | g_loss: 1.1995\n",
      "Epoch [   12/   25] | d_loss: 0.7479 | g_loss: 1.2252\n",
      "Epoch [   13/   25] | d_loss: 1.2658 | g_loss: 0.3525\n",
      "Epoch [   13/   25] | d_loss: 0.6627 | g_loss: 2.4334\n",
      "Epoch [   13/   25] | d_loss: 0.5901 | g_loss: 0.9457\n",
      "Epoch [   13/   25] | d_loss: 0.9879 | g_loss: 0.7382\n",
      "Epoch [   13/   25] | d_loss: 0.7414 | g_loss: 1.3813\n",
      "Epoch [   13/   25] | d_loss: 0.9339 | g_loss: 2.0797\n",
      "Epoch [   13/   25] | d_loss: 0.7054 | g_loss: 1.9346\n",
      "Epoch [   13/   25] | d_loss: 0.7067 | g_loss: 1.8126\n",
      "Epoch [   13/   25] | d_loss: 0.6897 | g_loss: 1.4426\n",
      "Epoch [   13/   25] | d_loss: 1.0601 | g_loss: 0.9938\n",
      "Epoch [   13/   25] | d_loss: 0.7319 | g_loss: 1.5847\n",
      "Epoch [   13/   25] | d_loss: 0.7087 | g_loss: 2.1501\n",
      "Epoch [   13/   25] | d_loss: 0.9311 | g_loss: 2.0015\n",
      "Epoch [   13/   25] | d_loss: 0.5007 | g_loss: 1.9052\n",
      "Epoch [   13/   25] | d_loss: 0.6976 | g_loss: 1.8201\n",
      "Epoch [   14/   25] | d_loss: 0.7523 | g_loss: 1.4820\n",
      "Epoch [   14/   25] | d_loss: 0.8051 | g_loss: 1.3039\n",
      "Epoch [   14/   25] | d_loss: 1.0534 | g_loss: 0.9351\n",
      "Epoch [   14/   25] | d_loss: 0.6560 | g_loss: 2.2185\n",
      "Epoch [   14/   25] | d_loss: 0.6460 | g_loss: 1.5405\n",
      "Epoch [   14/   25] | d_loss: 0.7097 | g_loss: 1.5942\n",
      "Epoch [   14/   25] | d_loss: 0.8919 | g_loss: 2.2566\n",
      "Epoch [   14/   25] | d_loss: 0.8214 | g_loss: 1.6030\n",
      "Epoch [   14/   25] | d_loss: 1.0105 | g_loss: 1.1566\n",
      "Epoch [   14/   25] | d_loss: 0.7051 | g_loss: 2.6899\n",
      "Epoch [   14/   25] | d_loss: 1.0265 | g_loss: 1.2177\n",
      "Epoch [   14/   25] | d_loss: 1.1367 | g_loss: 2.9348\n",
      "Epoch [   14/   25] | d_loss: 1.0802 | g_loss: 0.7754\n",
      "Epoch [   14/   25] | d_loss: 0.5593 | g_loss: 2.1063\n",
      "Epoch [   14/   25] | d_loss: 0.8499 | g_loss: 0.8589\n",
      "Epoch [   15/   25] | d_loss: 0.8119 | g_loss: 2.3579\n",
      "Epoch [   15/   25] | d_loss: 0.8279 | g_loss: 1.7896\n",
      "Epoch [   15/   25] | d_loss: 0.7166 | g_loss: 1.6032\n",
      "Epoch [   15/   25] | d_loss: 0.6025 | g_loss: 2.0287\n",
      "Epoch [   15/   25] | d_loss: 0.8108 | g_loss: 2.3443\n",
      "Epoch [   15/   25] | d_loss: 0.7437 | g_loss: 1.5105\n",
      "Epoch [   15/   25] | d_loss: 0.5334 | g_loss: 1.6404\n",
      "Epoch [   15/   25] | d_loss: 0.6901 | g_loss: 1.9857\n",
      "Epoch [   15/   25] | d_loss: 0.8072 | g_loss: 1.0487\n",
      "Epoch [   15/   25] | d_loss: 0.8641 | g_loss: 1.2494\n",
      "Epoch [   15/   25] | d_loss: 0.7902 | g_loss: 1.0772\n",
      "Epoch [   15/   25] | d_loss: 0.9433 | g_loss: 1.0291\n",
      "Epoch [   15/   25] | d_loss: 0.7042 | g_loss: 1.1953\n",
      "Epoch [   15/   25] | d_loss: 0.8693 | g_loss: 2.0224\n",
      "Epoch [   15/   25] | d_loss: 0.6220 | g_loss: 1.0804\n",
      "Epoch [   16/   25] | d_loss: 0.5905 | g_loss: 2.0880\n",
      "Epoch [   16/   25] | d_loss: 0.5247 | g_loss: 1.9607\n",
      "Epoch [   16/   25] | d_loss: 0.4732 | g_loss: 1.8869\n",
      "Epoch [   16/   25] | d_loss: 0.7343 | g_loss: 1.9110\n",
      "Epoch [   16/   25] | d_loss: 0.8618 | g_loss: 1.3076\n",
      "Epoch [   16/   25] | d_loss: 0.6320 | g_loss: 1.9104\n",
      "Epoch [   16/   25] | d_loss: 0.6929 | g_loss: 2.6629\n",
      "Epoch [   16/   25] | d_loss: 0.8149 | g_loss: 1.4817\n",
      "Epoch [   16/   25] | d_loss: 0.7449 | g_loss: 1.8465\n",
      "Epoch [   16/   25] | d_loss: 0.5298 | g_loss: 1.8694\n",
      "Epoch [   16/   25] | d_loss: 1.0550 | g_loss: 3.1551\n",
      "Epoch [   16/   25] | d_loss: 0.5654 | g_loss: 1.0194\n",
      "Epoch [   16/   25] | d_loss: 0.6200 | g_loss: 1.4116\n",
      "Epoch [   16/   25] | d_loss: 0.5792 | g_loss: 2.3937\n",
      "Epoch [   16/   25] | d_loss: 0.6317 | g_loss: 1.8441\n",
      "Epoch [   17/   25] | d_loss: 0.6948 | g_loss: 2.2429\n",
      "Epoch [   17/   25] | d_loss: 0.5451 | g_loss: 1.3287\n",
      "Epoch [   17/   25] | d_loss: 0.7457 | g_loss: 1.3442\n",
      "Epoch [   17/   25] | d_loss: 0.9927 | g_loss: 0.9981\n",
      "Epoch [   17/   25] | d_loss: 0.7979 | g_loss: 2.9373\n",
      "Epoch [   17/   25] | d_loss: 0.5141 | g_loss: 1.8866\n",
      "Epoch [   17/   25] | d_loss: 0.5411 | g_loss: 1.6235\n",
      "Epoch [   17/   25] | d_loss: 0.6831 | g_loss: 1.8063\n",
      "Epoch [   17/   25] | d_loss: 0.7718 | g_loss: 2.5709\n",
      "Epoch [   17/   25] | d_loss: 0.5724 | g_loss: 1.6861\n",
      "Epoch [   17/   25] | d_loss: 0.5493 | g_loss: 1.6326\n",
      "Epoch [   17/   25] | d_loss: 0.5330 | g_loss: 2.5568\n",
      "Epoch [   17/   25] | d_loss: 0.6357 | g_loss: 1.9370\n",
      "Epoch [   17/   25] | d_loss: 0.4377 | g_loss: 1.9778\n",
      "Epoch [   17/   25] | d_loss: 0.9217 | g_loss: 3.1465\n",
      "Epoch [   18/   25] | d_loss: 0.5932 | g_loss: 2.1211\n",
      "Epoch [   18/   25] | d_loss: 1.2076 | g_loss: 1.1793\n",
      "Epoch [   18/   25] | d_loss: 0.6174 | g_loss: 1.9807\n",
      "Epoch [   18/   25] | d_loss: 0.6853 | g_loss: 2.4066\n",
      "Epoch [   18/   25] | d_loss: 0.5365 | g_loss: 3.2331\n",
      "Epoch [   18/   25] | d_loss: 0.4530 | g_loss: 1.2214\n",
      "Epoch [   18/   25] | d_loss: 0.8215 | g_loss: 2.8594\n",
      "Epoch [   18/   25] | d_loss: 0.5979 | g_loss: 3.0937\n",
      "Epoch [   18/   25] | d_loss: 0.5232 | g_loss: 1.1229\n",
      "Epoch [   18/   25] | d_loss: 0.5973 | g_loss: 1.7549\n",
      "Epoch [   18/   25] | d_loss: 0.6727 | g_loss: 1.6846\n",
      "Epoch [   18/   25] | d_loss: 0.6314 | g_loss: 2.8076\n",
      "Epoch [   18/   25] | d_loss: 0.3790 | g_loss: 1.6288\n",
      "Epoch [   18/   25] | d_loss: 0.4793 | g_loss: 2.6267\n",
      "Epoch [   18/   25] | d_loss: 0.6950 | g_loss: 1.3220\n",
      "Epoch [   19/   25] | d_loss: 0.6890 | g_loss: 0.9419\n",
      "Epoch [   19/   25] | d_loss: 0.4218 | g_loss: 2.3452\n",
      "Epoch [   19/   25] | d_loss: 0.7017 | g_loss: 1.9882\n",
      "Epoch [   19/   25] | d_loss: 0.4957 | g_loss: 1.7816\n",
      "Epoch [   19/   25] | d_loss: 0.7428 | g_loss: 2.0880\n",
      "Epoch [   19/   25] | d_loss: 0.5265 | g_loss: 2.1453\n",
      "Epoch [   19/   25] | d_loss: 0.4793 | g_loss: 2.1834\n",
      "Epoch [   19/   25] | d_loss: 0.5239 | g_loss: 2.0391\n",
      "Epoch [   19/   25] | d_loss: 0.7889 | g_loss: 2.3403\n",
      "Epoch [   19/   25] | d_loss: 0.6654 | g_loss: 2.3176\n",
      "Epoch [   19/   25] | d_loss: 0.4495 | g_loss: 1.7056\n",
      "Epoch [   19/   25] | d_loss: 4.0237 | g_loss: 4.7911\n",
      "Epoch [   19/   25] | d_loss: 0.7417 | g_loss: 1.7947\n",
      "Epoch [   19/   25] | d_loss: 0.6039 | g_loss: 1.8022\n",
      "Epoch [   19/   25] | d_loss: 0.5393 | g_loss: 1.8036\n",
      "Epoch [   20/   25] | d_loss: 0.3679 | g_loss: 2.2537\n",
      "Epoch [   20/   25] | d_loss: 0.6320 | g_loss: 1.6652\n",
      "Epoch [   20/   25] | d_loss: 0.8209 | g_loss: 1.4732\n",
      "Epoch [   20/   25] | d_loss: 0.4720 | g_loss: 2.4091\n",
      "Epoch [   20/   25] | d_loss: 0.3763 | g_loss: 2.7378\n",
      "Epoch [   20/   25] | d_loss: 0.5707 | g_loss: 1.5472\n",
      "Epoch [   20/   25] | d_loss: 0.7659 | g_loss: 1.3411\n",
      "Epoch [   20/   25] | d_loss: 1.8613 | g_loss: 6.4262\n",
      "Epoch [   20/   25] | d_loss: 0.7461 | g_loss: 1.7062\n",
      "Epoch [   20/   25] | d_loss: 0.5401 | g_loss: 1.9234\n",
      "Epoch [   20/   25] | d_loss: 0.4697 | g_loss: 1.7510\n",
      "Epoch [   20/   25] | d_loss: 0.6511 | g_loss: 1.9171\n",
      "Epoch [   20/   25] | d_loss: 0.4812 | g_loss: 1.6424\n",
      "Epoch [   20/   25] | d_loss: 0.7825 | g_loss: 1.2708\n",
      "Epoch [   20/   25] | d_loss: 0.3660 | g_loss: 2.2744\n",
      "Epoch [   21/   25] | d_loss: 0.6439 | g_loss: 1.7171\n",
      "Epoch [   21/   25] | d_loss: 0.4901 | g_loss: 1.4598\n",
      "Epoch [   21/   25] | d_loss: 0.5455 | g_loss: 1.8145\n",
      "Epoch [   21/   25] | d_loss: 0.4623 | g_loss: 2.0036\n",
      "Epoch [   21/   25] | d_loss: 0.4097 | g_loss: 1.8065\n",
      "Epoch [   21/   25] | d_loss: 0.6112 | g_loss: 1.0880\n",
      "Epoch [   21/   25] | d_loss: 0.8058 | g_loss: 4.6457\n",
      "Epoch [   21/   25] | d_loss: 0.4514 | g_loss: 1.7680\n",
      "Epoch [   21/   25] | d_loss: 0.5840 | g_loss: 1.8264\n",
      "Epoch [   21/   25] | d_loss: 0.6824 | g_loss: 1.4859\n",
      "Epoch [   21/   25] | d_loss: 0.5407 | g_loss: 3.4470\n",
      "Epoch [   21/   25] | d_loss: 0.4014 | g_loss: 2.8574\n",
      "Epoch [   21/   25] | d_loss: 0.4571 | g_loss: 1.2495\n",
      "Epoch [   21/   25] | d_loss: 0.4896 | g_loss: 1.6479\n",
      "Epoch [   21/   25] | d_loss: 0.8049 | g_loss: 0.9944\n",
      "Epoch [   22/   25] | d_loss: 0.6093 | g_loss: 1.6675\n",
      "Epoch [   22/   25] | d_loss: 0.9615 | g_loss: 0.8468\n",
      "Epoch [   22/   25] | d_loss: 0.5198 | g_loss: 1.9779\n",
      "Epoch [   22/   25] | d_loss: 0.4859 | g_loss: 2.1192\n",
      "Epoch [   22/   25] | d_loss: 0.6714 | g_loss: 3.6277\n",
      "Epoch [   22/   25] | d_loss: 0.3463 | g_loss: 2.7856\n",
      "Epoch [   22/   25] | d_loss: 0.4535 | g_loss: 1.8239\n",
      "Epoch [   22/   25] | d_loss: 0.5148 | g_loss: 1.9237\n",
      "Epoch [   22/   25] | d_loss: 0.6193 | g_loss: 2.3245\n",
      "Epoch [   22/   25] | d_loss: 0.3968 | g_loss: 2.4757\n",
      "Epoch [   22/   25] | d_loss: 0.3869 | g_loss: 1.6052\n",
      "Epoch [   22/   25] | d_loss: 0.3015 | g_loss: 2.4415\n",
      "Epoch [   22/   25] | d_loss: 0.3167 | g_loss: 2.3137\n",
      "Epoch [   22/   25] | d_loss: 0.3167 | g_loss: 2.8397\n",
      "Epoch [   22/   25] | d_loss: 0.5532 | g_loss: 2.0345\n",
      "Epoch [   23/   25] | d_loss: 0.5780 | g_loss: 1.5154\n",
      "Epoch [   23/   25] | d_loss: 0.3820 | g_loss: 2.8035\n",
      "Epoch [   23/   25] | d_loss: 0.2336 | g_loss: 2.7679\n",
      "Epoch [   23/   25] | d_loss: 5.2587 | g_loss: 0.5874\n",
      "Epoch [   23/   25] | d_loss: 0.4982 | g_loss: 2.6268\n",
      "Epoch [   23/   25] | d_loss: 0.3947 | g_loss: 2.2228\n",
      "Epoch [   23/   25] | d_loss: 0.3438 | g_loss: 3.0544\n",
      "Epoch [   23/   25] | d_loss: 0.5893 | g_loss: 2.4838\n",
      "Epoch [   23/   25] | d_loss: 0.5613 | g_loss: 3.4201\n",
      "Epoch [   23/   25] | d_loss: 0.5069 | g_loss: 1.1219\n",
      "Epoch [   23/   25] | d_loss: 0.4536 | g_loss: 1.9701\n",
      "Epoch [   23/   25] | d_loss: 0.4054 | g_loss: 2.7757\n",
      "Epoch [   23/   25] | d_loss: 0.4468 | g_loss: 2.8206\n",
      "Epoch [   23/   25] | d_loss: 0.4335 | g_loss: 2.4878\n",
      "Epoch [   23/   25] | d_loss: 0.4430 | g_loss: 2.2539\n",
      "Epoch [   24/   25] | d_loss: 0.1985 | g_loss: 3.6549\n",
      "Epoch [   24/   25] | d_loss: 0.4303 | g_loss: 2.4013\n",
      "Epoch [   24/   25] | d_loss: 0.3854 | g_loss: 2.5308\n",
      "Epoch [   24/   25] | d_loss: 1.6084 | g_loss: 3.7354\n",
      "Epoch [   24/   25] | d_loss: 0.6827 | g_loss: 2.1174\n",
      "Epoch [   24/   25] | d_loss: 0.4968 | g_loss: 2.1509\n",
      "Epoch [   24/   25] | d_loss: 0.3657 | g_loss: 2.1295\n",
      "Epoch [   24/   25] | d_loss: 0.4843 | g_loss: 2.1379\n",
      "Epoch [   24/   25] | d_loss: 0.4089 | g_loss: 1.9149\n",
      "Epoch [   24/   25] | d_loss: 0.3883 | g_loss: 2.1902\n",
      "Epoch [   24/   25] | d_loss: 0.3324 | g_loss: 2.9357\n",
      "Epoch [   24/   25] | d_loss: 0.3405 | g_loss: 1.4973\n",
      "Epoch [   24/   25] | d_loss: 0.4140 | g_loss: 2.1739\n",
      "Epoch [   24/   25] | d_loss: 0.3509 | g_loss: 2.1584\n",
      "Epoch [   24/   25] | d_loss: 0.2116 | g_loss: 3.4326\n",
      "Epoch [   25/   25] | d_loss: 0.4401 | g_loss: 2.5369\n",
      "Epoch [   25/   25] | d_loss: 0.3328 | g_loss: 2.1693\n",
      "Epoch [   25/   25] | d_loss: 0.3768 | g_loss: 3.1727\n",
      "Epoch [   25/   25] | d_loss: 0.4350 | g_loss: 2.0045\n",
      "Epoch [   25/   25] | d_loss: 0.4999 | g_loss: 2.4988\n",
      "Epoch [   25/   25] | d_loss: 0.2826 | g_loss: 3.0113\n",
      "Epoch [   25/   25] | d_loss: 1.1037 | g_loss: 1.4592\n",
      "Epoch [   25/   25] | d_loss: 0.4870 | g_loss: 1.7460\n",
      "Epoch [   25/   25] | d_loss: 0.3476 | g_loss: 2.7501\n",
      "Epoch [   25/   25] | d_loss: 0.3621 | g_loss: 2.7481\n",
      "Epoch [   25/   25] | d_loss: 0.4888 | g_loss: 2.7041\n",
      "Epoch [   25/   25] | d_loss: 0.3235 | g_loss: 2.5793\n",
      "Epoch [   25/   25] | d_loss: 0.3851 | g_loss: 1.6887\n",
      "Epoch [   25/   25] | d_loss: 0.3949 | g_loss: 3.0078\n",
      "Epoch [   25/   25] | d_loss: 1.8248 | g_loss: 3.4336\n"
     ]
    }
   ],
   "source": [
    "# set number of epochs \n",
    "n_epochs = 25\n",
    "\n",
    "\n",
    "\"\"\"\n",
    "DON'T MODIFY ANYTHING IN THIS CELL\n",
    "\"\"\"\n",
    "# call training function\n",
    "losses = train(D, G, n_epochs=n_epochs)"
   ]
  },
  {
   "cell_type": "markdown",
   "metadata": {
    "colab_type": "text",
    "collapsed": true,
    "id": "SUibm_AyXkmn"
   },
   "source": [
    "## Training loss\n",
    "\n",
    "Plot the training losses for the generator and discriminator, recorded after each epoch."
   ]
  },
  {
   "cell_type": "code",
   "execution_count": 19,
   "metadata": {
    "colab": {
     "base_uri": "https://localhost:8080/",
     "height": 299
    },
    "colab_type": "code",
    "id": "hGaLil_YXkmo",
    "outputId": "976e425f-86db-41ce-ee41-d59c5d56497b"
   },
   "outputs": [
    {
     "data": {
      "text/plain": [
       "<matplotlib.legend.Legend at 0x7f2e5cceab00>"
      ]
     },
     "execution_count": 19,
     "metadata": {
      "tags": []
     },
     "output_type": "execute_result"
    },
    {
     "data": {
      "image/png": "[encoded data removed]",
      "text/plain": [
       "<Figure size 432x288 with 1 Axes>"
      ]
     },
     "metadata": {
      "tags": []
     },
     "output_type": "display_data"
    }
   ],
   "source": [
    "fig, ax = plt.subplots()\n",
    "losses = np.array(losses)\n",
    "plt.plot(losses.T[0], label='Discriminator', alpha=0.5)\n",
    "plt.plot(losses.T[1], label='Generator', alpha=0.5)\n",
    "plt.title(\"Training Losses\")\n",
    "plt.legend()"
   ]
  },
  {
   "cell_type": "markdown",
   "metadata": {
    "colab_type": "text",
    "collapsed": true,
    "id": "qJaIJQLzXkmv"
   },
   "source": [
    "## Generator samples from training\n",
    "\n",
    "View samples of images from the generator, and answer a question about the strengths and weaknesses of your trained models."
   ]
  },
  {
   "cell_type": "code",
   "execution_count": 0,
   "metadata": {
    "colab": {},
    "colab_type": "code",
    "id": "s0LUgvanXkmv"
   },
   "outputs": [],
   "source": [
    "# helper function for viewing a list of passed in sample images\n",
    "def view_samples(epoch, samples):\n",
    "    fig, axes = plt.subplots(figsize=(16,4), nrows=2, ncols=8, sharey=True, sharex=True)\n",
    "    for ax, img in zip(axes.flatten(), samples[epoch]):\n",
    "        img = img.detach().cpu().numpy()\n",
    "        img = np.transpose(img, (1, 2, 0))\n",
    "        img = ((img + 1)*255 / (2)).astype(np.uint8)\n",
    "        ax.xaxis.set_visible(False)\n",
    "        ax.yaxis.set_visible(False)\n",
    "        im = ax.imshow(img.reshape((32,32,3)))"
   ]
  },
  {
   "cell_type": "code",
   "execution_count": 0,
   "metadata": {
    "colab": {},
    "colab_type": "code",
    "id": "WcKkiT8rXkm6"
   },
   "outputs": [],
   "source": [
    "# Load samples from generator, taken while training\n",
    "with open('train_samples.pkl', 'rb') as f:\n",
    "    samples = pkl.load(f)"
   ]
  },
  {
   "cell_type": "code",
   "execution_count": 22,
   "metadata": {
    "colab": {
     "base_uri": "https://localhost:8080/",
     "height": 244
    },
    "colab_type": "code",
    "id": "eTSqYOI1Xkm-",
    "outputId": "958fdc01-a1c9-4a86-f455-622bd8f04114"
   },
   "outputs": [
    {
     "data": {
      "image/png": "[encoded data removed]",
      "text/plain": [
       "<Figure size 1152x288 with 16 Axes>"
      ]
     },
     "metadata": {
      "tags": []
     },
     "output_type": "display_data"
    }
   ],
   "source": [
    "_ = view_samples(-1, samples)"
   ]
  },
  {
   "cell_type": "markdown",
   "metadata": {
    "colab_type": "text",
    "id": "CjsWW73rXknE"
   },
   "source": [
    "### Question: What do you notice about your generated samples and how might you improve this model?\n",
    "When you answer this question, consider the following factors:\n",
    "* The dataset is biased; it is made of \"celebrity\" faces that are mostly white\n",
    "* Model size; larger models have the opportunity to learn more features in a data feature space\n",
    "* Optimization strategy; optimizers and number of epochs affect your final result\n"
   ]
  },
  {
   "cell_type": "markdown",
   "metadata": {
    "colab_type": "text",
    "id": "V7iof3BgXknF"
   },
   "source": [
    "**Answer:** \n",
    "1. This dataset has inherent biases in that it mostly consists of the faces of celebrities of which the majority are white caucasians. As a result, the model cannot generate human faces of other races that it hasn't \"seen\". More diverse samples of human face pictures are needed to make the model generate faces that are more representative of the general human population. \n",
    "2. Increasing the depths of the model (i.e. more channels) leads to smaller generator and discriminator losses which translates to better model performance and generated more realistic face pictures. Given more time, it is worthwhile to try out DCGAN models with more convolutional layers and channel depths.\n",
    "3. I experimented with different epoch numbers and learning rates. Considering the training time trade-off, a good choice of epoch numbers seems to be in the range of [20, 50]. Learning rates with reasonable good results are in the range of [0.0001, 0.001]. Given more time, it might be worthwhile to tune other hyperparameters such as beta1, beta2 or other optimizers like SGD. "
   ]
  },
  {
   "cell_type": "markdown",
   "metadata": {
    "colab_type": "text",
    "id": "j5Q_flkRXknG"
   },
   "source": [
    "### Submitting This Project\n",
    "When submitting this project, make sure to run all the cells before saving the notebook. Save the notebook file as \"dlnd_face_generation.ipynb\" and save it as a HTML file under \"File\" -> \"Download as\". Include the \"problem_unittests.py\" files in your submission."
   ]
  }
 ],
 "metadata": {
  "accelerator": "GPU",
  "colab": {
   "collapsed_sections": [],
   "name": "dlnd_face_generation.ipynb",
   "provenance": [],
   "toc_visible": true,
   "version": "0.3.2"
  },
  "kernelspec": {
   "display_name": "Python 3",
   "language": "python",
   "name": "python3"
  },
  "language_info": {
   "codemirror_mode": {
    "name": "ipython",
    "version": 3
   },
   "file_extension": ".py",
   "mimetype": "text/x-python",
   "name": "python",
   "nbconvert_exporter": "python",
   "pygments_lexer": "ipython3",
   "version": "3.6.4"
  }
 },
 "nbformat": 4,
 "nbformat_minor": 1
}
